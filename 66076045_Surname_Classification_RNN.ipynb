{
  "cells": [
    {
      "cell_type": "markdown",
      "source": [
        "Surname Classification with RNN\n",
        "===============================\n",
        "\n",
        "In this example, we see surname classification in which character sequences (surnames) are classified to nationality of origin.\n",
        "\n",
        "Inferring demographic information (like nationality) from publicly observable data has applications from product recommendations to ensuring fair outcomes for users across different demographics."
      ],
      "metadata": {
        "id": "irMYpmSzqZ_X"
      }
    },
    {
      "cell_type": "code",
      "source": [
        "from google.colab import drive\n",
        "drive.mount('/content/drive')"
      ],
      "metadata": {
        "colab": {
          "base_uri": "https://localhost:8080/"
        },
        "id": "y_DJiV2kqa6Q",
        "outputId": "b87a04e6-fb7f-4deb-e372-a04c583af5f4"
      },
      "execution_count": null,
      "outputs": [
        {
          "output_type": "stream",
          "name": "stdout",
          "text": [
            "Drive already mounted at /content/drive; to attempt to forcibly remount, call drive.mount(\"/content/drive\", force_remount=True).\n"
          ]
        }
      ]
    },
    {
      "cell_type": "code",
      "source": [
        "%cd '/content/drive/MyDrive/TextPro2566/Surname'"
      ],
      "metadata": {
        "colab": {
          "base_uri": "https://localhost:8080/"
        },
        "id": "Fyi0egnAqnGN",
        "outputId": "1824b74a-bcfb-45a9-90a2-d210360cb02b"
      },
      "execution_count": null,
      "outputs": [
        {
          "output_type": "stream",
          "name": "stdout",
          "text": [
            "/content/drive/MyDrive/TextPro2566/Surname\n"
          ]
        }
      ]
    },
    {
      "cell_type": "code",
      "execution_count": null,
      "source": [
        "from argparse import Namespace\n",
        "import os\n",
        "import json\n",
        "\n",
        "import numpy as np\n",
        "import pandas as pd\n",
        "import torch\n",
        "import torch.nn as nn\n",
        "import torch.nn.functional as F\n",
        "import torch.optim as optim\n",
        "from torch.utils.data import Dataset, DataLoader\n",
        "from tqdm.notebook import tqdm"
      ],
      "outputs": [],
      "metadata": {
        "id": "hsajd8jnqZ_d"
      }
    },
    {
      "cell_type": "code",
      "source": [
        "file_path = \"surnames_with_splits.csv\"\n",
        "df = pd.read_csv(file_path)\n",
        "(df.head())"
      ],
      "metadata": {
        "colab": {
          "base_uri": "https://localhost:8080/",
          "height": 206
        },
        "id": "Mw-qO73pTVau",
        "outputId": "0df6a9e6-3baf-490e-eebf-11a182095f78"
      },
      "execution_count": null,
      "outputs": [
        {
          "output_type": "execute_result",
          "data": {
            "text/plain": [
              "    surname nationality  split\n",
              "0     Totah      Arabic  train\n",
              "1    Abboud      Arabic  train\n",
              "2  Fakhoury      Arabic  train\n",
              "3     Srour      Arabic  train\n",
              "4    Sayegh      Arabic  train"
            ],
            "text/html": [
              "\n",
              "  <div id=\"df-ec6d026b-a7c8-4b5b-b853-7aa57cd2eb90\" class=\"colab-df-container\">\n",
              "    <div>\n",
              "<style scoped>\n",
              "    .dataframe tbody tr th:only-of-type {\n",
              "        vertical-align: middle;\n",
              "    }\n",
              "\n",
              "    .dataframe tbody tr th {\n",
              "        vertical-align: top;\n",
              "    }\n",
              "\n",
              "    .dataframe thead th {\n",
              "        text-align: right;\n",
              "    }\n",
              "</style>\n",
              "<table border=\"1\" class=\"dataframe\">\n",
              "  <thead>\n",
              "    <tr style=\"text-align: right;\">\n",
              "      <th></th>\n",
              "      <th>surname</th>\n",
              "      <th>nationality</th>\n",
              "      <th>split</th>\n",
              "    </tr>\n",
              "  </thead>\n",
              "  <tbody>\n",
              "    <tr>\n",
              "      <th>0</th>\n",
              "      <td>Totah</td>\n",
              "      <td>Arabic</td>\n",
              "      <td>train</td>\n",
              "    </tr>\n",
              "    <tr>\n",
              "      <th>1</th>\n",
              "      <td>Abboud</td>\n",
              "      <td>Arabic</td>\n",
              "      <td>train</td>\n",
              "    </tr>\n",
              "    <tr>\n",
              "      <th>2</th>\n",
              "      <td>Fakhoury</td>\n",
              "      <td>Arabic</td>\n",
              "      <td>train</td>\n",
              "    </tr>\n",
              "    <tr>\n",
              "      <th>3</th>\n",
              "      <td>Srour</td>\n",
              "      <td>Arabic</td>\n",
              "      <td>train</td>\n",
              "    </tr>\n",
              "    <tr>\n",
              "      <th>4</th>\n",
              "      <td>Sayegh</td>\n",
              "      <td>Arabic</td>\n",
              "      <td>train</td>\n",
              "    </tr>\n",
              "  </tbody>\n",
              "</table>\n",
              "</div>\n",
              "    <div class=\"colab-df-buttons\">\n",
              "\n",
              "  <div class=\"colab-df-container\">\n",
              "    <button class=\"colab-df-convert\" onclick=\"convertToInteractive('df-ec6d026b-a7c8-4b5b-b853-7aa57cd2eb90')\"\n",
              "            title=\"Convert this dataframe to an interactive table.\"\n",
              "            style=\"display:none;\">\n",
              "\n",
              "  <svg xmlns=\"http://www.w3.org/2000/svg\" height=\"24px\" viewBox=\"0 -960 960 960\">\n",
              "    <path d=\"M120-120v-720h720v720H120Zm60-500h600v-160H180v160Zm220 220h160v-160H400v160Zm0 220h160v-160H400v160ZM180-400h160v-160H180v160Zm440 0h160v-160H620v160ZM180-180h160v-160H180v160Zm440 0h160v-160H620v160Z\"/>\n",
              "  </svg>\n",
              "    </button>\n",
              "\n",
              "  <style>\n",
              "    .colab-df-container {\n",
              "      display:flex;\n",
              "      gap: 12px;\n",
              "    }\n",
              "\n",
              "    .colab-df-convert {\n",
              "      background-color: #E8F0FE;\n",
              "      border: none;\n",
              "      border-radius: 50%;\n",
              "      cursor: pointer;\n",
              "      display: none;\n",
              "      fill: #1967D2;\n",
              "      height: 32px;\n",
              "      padding: 0 0 0 0;\n",
              "      width: 32px;\n",
              "    }\n",
              "\n",
              "    .colab-df-convert:hover {\n",
              "      background-color: #E2EBFA;\n",
              "      box-shadow: 0px 1px 2px rgba(60, 64, 67, 0.3), 0px 1px 3px 1px rgba(60, 64, 67, 0.15);\n",
              "      fill: #174EA6;\n",
              "    }\n",
              "\n",
              "    .colab-df-buttons div {\n",
              "      margin-bottom: 4px;\n",
              "    }\n",
              "\n",
              "    [theme=dark] .colab-df-convert {\n",
              "      background-color: #3B4455;\n",
              "      fill: #D2E3FC;\n",
              "    }\n",
              "\n",
              "    [theme=dark] .colab-df-convert:hover {\n",
              "      background-color: #434B5C;\n",
              "      box-shadow: 0px 1px 3px 1px rgba(0, 0, 0, 0.15);\n",
              "      filter: drop-shadow(0px 1px 2px rgba(0, 0, 0, 0.3));\n",
              "      fill: #FFFFFF;\n",
              "    }\n",
              "  </style>\n",
              "\n",
              "    <script>\n",
              "      const buttonEl =\n",
              "        document.querySelector('#df-ec6d026b-a7c8-4b5b-b853-7aa57cd2eb90 button.colab-df-convert');\n",
              "      buttonEl.style.display =\n",
              "        google.colab.kernel.accessAllowed ? 'block' : 'none';\n",
              "\n",
              "      async function convertToInteractive(key) {\n",
              "        const element = document.querySelector('#df-ec6d026b-a7c8-4b5b-b853-7aa57cd2eb90');\n",
              "        const dataTable =\n",
              "          await google.colab.kernel.invokeFunction('convertToInteractive',\n",
              "                                                    [key], {});\n",
              "        if (!dataTable) return;\n",
              "\n",
              "        const docLinkHtml = 'Like what you see? Visit the ' +\n",
              "          '<a target=\"_blank\" href=https://colab.research.google.com/notebooks/data_table.ipynb>data table notebook</a>'\n",
              "          + ' to learn more about interactive tables.';\n",
              "        element.innerHTML = '';\n",
              "        dataTable['output_type'] = 'display_data';\n",
              "        await google.colab.output.renderOutput(dataTable, element);\n",
              "        const docLink = document.createElement('div');\n",
              "        docLink.innerHTML = docLinkHtml;\n",
              "        element.appendChild(docLink);\n",
              "      }\n",
              "    </script>\n",
              "  </div>\n",
              "\n",
              "\n",
              "<div id=\"df-848ccead-8bad-4a46-8bac-f6b18a4181ca\">\n",
              "  <button class=\"colab-df-quickchart\" onclick=\"quickchart('df-848ccead-8bad-4a46-8bac-f6b18a4181ca')\"\n",
              "            title=\"Suggest charts\"\n",
              "            style=\"display:none;\">\n",
              "\n",
              "<svg xmlns=\"http://www.w3.org/2000/svg\" height=\"24px\"viewBox=\"0 0 24 24\"\n",
              "     width=\"24px\">\n",
              "    <g>\n",
              "        <path d=\"M19 3H5c-1.1 0-2 .9-2 2v14c0 1.1.9 2 2 2h14c1.1 0 2-.9 2-2V5c0-1.1-.9-2-2-2zM9 17H7v-7h2v7zm4 0h-2V7h2v10zm4 0h-2v-4h2v4z\"/>\n",
              "    </g>\n",
              "</svg>\n",
              "  </button>\n",
              "\n",
              "<style>\n",
              "  .colab-df-quickchart {\n",
              "      --bg-color: #E8F0FE;\n",
              "      --fill-color: #1967D2;\n",
              "      --hover-bg-color: #E2EBFA;\n",
              "      --hover-fill-color: #174EA6;\n",
              "      --disabled-fill-color: #AAA;\n",
              "      --disabled-bg-color: #DDD;\n",
              "  }\n",
              "\n",
              "  [theme=dark] .colab-df-quickchart {\n",
              "      --bg-color: #3B4455;\n",
              "      --fill-color: #D2E3FC;\n",
              "      --hover-bg-color: #434B5C;\n",
              "      --hover-fill-color: #FFFFFF;\n",
              "      --disabled-bg-color: #3B4455;\n",
              "      --disabled-fill-color: #666;\n",
              "  }\n",
              "\n",
              "  .colab-df-quickchart {\n",
              "    background-color: var(--bg-color);\n",
              "    border: none;\n",
              "    border-radius: 50%;\n",
              "    cursor: pointer;\n",
              "    display: none;\n",
              "    fill: var(--fill-color);\n",
              "    height: 32px;\n",
              "    padding: 0;\n",
              "    width: 32px;\n",
              "  }\n",
              "\n",
              "  .colab-df-quickchart:hover {\n",
              "    background-color: var(--hover-bg-color);\n",
              "    box-shadow: 0 1px 2px rgba(60, 64, 67, 0.3), 0 1px 3px 1px rgba(60, 64, 67, 0.15);\n",
              "    fill: var(--button-hover-fill-color);\n",
              "  }\n",
              "\n",
              "  .colab-df-quickchart-complete:disabled,\n",
              "  .colab-df-quickchart-complete:disabled:hover {\n",
              "    background-color: var(--disabled-bg-color);\n",
              "    fill: var(--disabled-fill-color);\n",
              "    box-shadow: none;\n",
              "  }\n",
              "\n",
              "  .colab-df-spinner {\n",
              "    border: 2px solid var(--fill-color);\n",
              "    border-color: transparent;\n",
              "    border-bottom-color: var(--fill-color);\n",
              "    animation:\n",
              "      spin 1s steps(1) infinite;\n",
              "  }\n",
              "\n",
              "  @keyframes spin {\n",
              "    0% {\n",
              "      border-color: transparent;\n",
              "      border-bottom-color: var(--fill-color);\n",
              "      border-left-color: var(--fill-color);\n",
              "    }\n",
              "    20% {\n",
              "      border-color: transparent;\n",
              "      border-left-color: var(--fill-color);\n",
              "      border-top-color: var(--fill-color);\n",
              "    }\n",
              "    30% {\n",
              "      border-color: transparent;\n",
              "      border-left-color: var(--fill-color);\n",
              "      border-top-color: var(--fill-color);\n",
              "      border-right-color: var(--fill-color);\n",
              "    }\n",
              "    40% {\n",
              "      border-color: transparent;\n",
              "      border-right-color: var(--fill-color);\n",
              "      border-top-color: var(--fill-color);\n",
              "    }\n",
              "    60% {\n",
              "      border-color: transparent;\n",
              "      border-right-color: var(--fill-color);\n",
              "    }\n",
              "    80% {\n",
              "      border-color: transparent;\n",
              "      border-right-color: var(--fill-color);\n",
              "      border-bottom-color: var(--fill-color);\n",
              "    }\n",
              "    90% {\n",
              "      border-color: transparent;\n",
              "      border-bottom-color: var(--fill-color);\n",
              "    }\n",
              "  }\n",
              "</style>\n",
              "\n",
              "  <script>\n",
              "    async function quickchart(key) {\n",
              "      const quickchartButtonEl =\n",
              "        document.querySelector('#' + key + ' button');\n",
              "      quickchartButtonEl.disabled = true;  // To prevent multiple clicks.\n",
              "      quickchartButtonEl.classList.add('colab-df-spinner');\n",
              "      try {\n",
              "        const charts = await google.colab.kernel.invokeFunction(\n",
              "            'suggestCharts', [key], {});\n",
              "      } catch (error) {\n",
              "        console.error('Error during call to suggestCharts:', error);\n",
              "      }\n",
              "      quickchartButtonEl.classList.remove('colab-df-spinner');\n",
              "      quickchartButtonEl.classList.add('colab-df-quickchart-complete');\n",
              "    }\n",
              "    (() => {\n",
              "      let quickchartButtonEl =\n",
              "        document.querySelector('#df-848ccead-8bad-4a46-8bac-f6b18a4181ca button');\n",
              "      quickchartButtonEl.style.display =\n",
              "        google.colab.kernel.accessAllowed ? 'block' : 'none';\n",
              "    })();\n",
              "  </script>\n",
              "</div>\n",
              "    </div>\n",
              "  </div>\n"
            ],
            "application/vnd.google.colaboratory.intrinsic+json": {
              "type": "dataframe",
              "summary": "{\n  \"name\": \"(df\",\n  \"rows\": 5,\n  \"fields\": [\n    {\n      \"column\": \"surname\",\n      \"properties\": {\n        \"dtype\": \"string\",\n        \"num_unique_values\": 5,\n        \"samples\": [\n          \"Abboud\",\n          \"Sayegh\",\n          \"Fakhoury\"\n        ],\n        \"semantic_type\": \"\",\n        \"description\": \"\"\n      }\n    },\n    {\n      \"column\": \"nationality\",\n      \"properties\": {\n        \"dtype\": \"category\",\n        \"num_unique_values\": 1,\n        \"samples\": [\n          \"Arabic\"\n        ],\n        \"semantic_type\": \"\",\n        \"description\": \"\"\n      }\n    },\n    {\n      \"column\": \"split\",\n      \"properties\": {\n        \"dtype\": \"category\",\n        \"num_unique_values\": 1,\n        \"samples\": [\n          \"train\"\n        ],\n        \"semantic_type\": \"\",\n        \"description\": \"\"\n      }\n    }\n  ]\n}"
            }
          },
          "metadata": {},
          "execution_count": 97
        }
      ]
    },
    {
      "cell_type": "code",
      "source": [
        "import pandas as pd\n",
        "surnames_path = '/content/drive/MyDrive/TextPro2566/Surname/surnames.csv'\n",
        "\n",
        "#Read\n",
        "surnames = pd.read_csv(surnames_path)\n",
        "#Show head\n",
        "surnames.head()"
      ],
      "metadata": {
        "colab": {
          "base_uri": "https://localhost:8080/",
          "height": 206
        },
        "id": "i6gSNC9dpI9W",
        "outputId": "b2ed8469-0c81-418c-ab15-d2c2e0e84158"
      },
      "execution_count": null,
      "outputs": [
        {
          "output_type": "execute_result",
          "data": {
            "text/plain": [
              "   surname nationality  split\n",
              "0   Gerges      Arabic  train\n",
              "1   Nassar      Arabic  train\n",
              "2   Kanaan      Arabic  train\n",
              "3    Hadad      Arabic  train\n",
              "4  Tannous      Arabic  train"
            ],
            "text/html": [
              "\n",
              "  <div id=\"df-e1bda42e-54a5-4d17-bc9c-56a176e03a41\" class=\"colab-df-container\">\n",
              "    <div>\n",
              "<style scoped>\n",
              "    .dataframe tbody tr th:only-of-type {\n",
              "        vertical-align: middle;\n",
              "    }\n",
              "\n",
              "    .dataframe tbody tr th {\n",
              "        vertical-align: top;\n",
              "    }\n",
              "\n",
              "    .dataframe thead th {\n",
              "        text-align: right;\n",
              "    }\n",
              "</style>\n",
              "<table border=\"1\" class=\"dataframe\">\n",
              "  <thead>\n",
              "    <tr style=\"text-align: right;\">\n",
              "      <th></th>\n",
              "      <th>surname</th>\n",
              "      <th>nationality</th>\n",
              "      <th>split</th>\n",
              "    </tr>\n",
              "  </thead>\n",
              "  <tbody>\n",
              "    <tr>\n",
              "      <th>0</th>\n",
              "      <td>Gerges</td>\n",
              "      <td>Arabic</td>\n",
              "      <td>train</td>\n",
              "    </tr>\n",
              "    <tr>\n",
              "      <th>1</th>\n",
              "      <td>Nassar</td>\n",
              "      <td>Arabic</td>\n",
              "      <td>train</td>\n",
              "    </tr>\n",
              "    <tr>\n",
              "      <th>2</th>\n",
              "      <td>Kanaan</td>\n",
              "      <td>Arabic</td>\n",
              "      <td>train</td>\n",
              "    </tr>\n",
              "    <tr>\n",
              "      <th>3</th>\n",
              "      <td>Hadad</td>\n",
              "      <td>Arabic</td>\n",
              "      <td>train</td>\n",
              "    </tr>\n",
              "    <tr>\n",
              "      <th>4</th>\n",
              "      <td>Tannous</td>\n",
              "      <td>Arabic</td>\n",
              "      <td>train</td>\n",
              "    </tr>\n",
              "  </tbody>\n",
              "</table>\n",
              "</div>\n",
              "    <div class=\"colab-df-buttons\">\n",
              "\n",
              "  <div class=\"colab-df-container\">\n",
              "    <button class=\"colab-df-convert\" onclick=\"convertToInteractive('df-e1bda42e-54a5-4d17-bc9c-56a176e03a41')\"\n",
              "            title=\"Convert this dataframe to an interactive table.\"\n",
              "            style=\"display:none;\">\n",
              "\n",
              "  <svg xmlns=\"http://www.w3.org/2000/svg\" height=\"24px\" viewBox=\"0 -960 960 960\">\n",
              "    <path d=\"M120-120v-720h720v720H120Zm60-500h600v-160H180v160Zm220 220h160v-160H400v160Zm0 220h160v-160H400v160ZM180-400h160v-160H180v160Zm440 0h160v-160H620v160ZM180-180h160v-160H180v160Zm440 0h160v-160H620v160Z\"/>\n",
              "  </svg>\n",
              "    </button>\n",
              "\n",
              "  <style>\n",
              "    .colab-df-container {\n",
              "      display:flex;\n",
              "      gap: 12px;\n",
              "    }\n",
              "\n",
              "    .colab-df-convert {\n",
              "      background-color: #E8F0FE;\n",
              "      border: none;\n",
              "      border-radius: 50%;\n",
              "      cursor: pointer;\n",
              "      display: none;\n",
              "      fill: #1967D2;\n",
              "      height: 32px;\n",
              "      padding: 0 0 0 0;\n",
              "      width: 32px;\n",
              "    }\n",
              "\n",
              "    .colab-df-convert:hover {\n",
              "      background-color: #E2EBFA;\n",
              "      box-shadow: 0px 1px 2px rgba(60, 64, 67, 0.3), 0px 1px 3px 1px rgba(60, 64, 67, 0.15);\n",
              "      fill: #174EA6;\n",
              "    }\n",
              "\n",
              "    .colab-df-buttons div {\n",
              "      margin-bottom: 4px;\n",
              "    }\n",
              "\n",
              "    [theme=dark] .colab-df-convert {\n",
              "      background-color: #3B4455;\n",
              "      fill: #D2E3FC;\n",
              "    }\n",
              "\n",
              "    [theme=dark] .colab-df-convert:hover {\n",
              "      background-color: #434B5C;\n",
              "      box-shadow: 0px 1px 3px 1px rgba(0, 0, 0, 0.15);\n",
              "      filter: drop-shadow(0px 1px 2px rgba(0, 0, 0, 0.3));\n",
              "      fill: #FFFFFF;\n",
              "    }\n",
              "  </style>\n",
              "\n",
              "    <script>\n",
              "      const buttonEl =\n",
              "        document.querySelector('#df-e1bda42e-54a5-4d17-bc9c-56a176e03a41 button.colab-df-convert');\n",
              "      buttonEl.style.display =\n",
              "        google.colab.kernel.accessAllowed ? 'block' : 'none';\n",
              "\n",
              "      async function convertToInteractive(key) {\n",
              "        const element = document.querySelector('#df-e1bda42e-54a5-4d17-bc9c-56a176e03a41');\n",
              "        const dataTable =\n",
              "          await google.colab.kernel.invokeFunction('convertToInteractive',\n",
              "                                                    [key], {});\n",
              "        if (!dataTable) return;\n",
              "\n",
              "        const docLinkHtml = 'Like what you see? Visit the ' +\n",
              "          '<a target=\"_blank\" href=https://colab.research.google.com/notebooks/data_table.ipynb>data table notebook</a>'\n",
              "          + ' to learn more about interactive tables.';\n",
              "        element.innerHTML = '';\n",
              "        dataTable['output_type'] = 'display_data';\n",
              "        await google.colab.output.renderOutput(dataTable, element);\n",
              "        const docLink = document.createElement('div');\n",
              "        docLink.innerHTML = docLinkHtml;\n",
              "        element.appendChild(docLink);\n",
              "      }\n",
              "    </script>\n",
              "  </div>\n",
              "\n",
              "\n",
              "<div id=\"df-4f2e75ab-977e-408f-9e64-b3ab45a0595a\">\n",
              "  <button class=\"colab-df-quickchart\" onclick=\"quickchart('df-4f2e75ab-977e-408f-9e64-b3ab45a0595a')\"\n",
              "            title=\"Suggest charts\"\n",
              "            style=\"display:none;\">\n",
              "\n",
              "<svg xmlns=\"http://www.w3.org/2000/svg\" height=\"24px\"viewBox=\"0 0 24 24\"\n",
              "     width=\"24px\">\n",
              "    <g>\n",
              "        <path d=\"M19 3H5c-1.1 0-2 .9-2 2v14c0 1.1.9 2 2 2h14c1.1 0 2-.9 2-2V5c0-1.1-.9-2-2-2zM9 17H7v-7h2v7zm4 0h-2V7h2v10zm4 0h-2v-4h2v4z\"/>\n",
              "    </g>\n",
              "</svg>\n",
              "  </button>\n",
              "\n",
              "<style>\n",
              "  .colab-df-quickchart {\n",
              "      --bg-color: #E8F0FE;\n",
              "      --fill-color: #1967D2;\n",
              "      --hover-bg-color: #E2EBFA;\n",
              "      --hover-fill-color: #174EA6;\n",
              "      --disabled-fill-color: #AAA;\n",
              "      --disabled-bg-color: #DDD;\n",
              "  }\n",
              "\n",
              "  [theme=dark] .colab-df-quickchart {\n",
              "      --bg-color: #3B4455;\n",
              "      --fill-color: #D2E3FC;\n",
              "      --hover-bg-color: #434B5C;\n",
              "      --hover-fill-color: #FFFFFF;\n",
              "      --disabled-bg-color: #3B4455;\n",
              "      --disabled-fill-color: #666;\n",
              "  }\n",
              "\n",
              "  .colab-df-quickchart {\n",
              "    background-color: var(--bg-color);\n",
              "    border: none;\n",
              "    border-radius: 50%;\n",
              "    cursor: pointer;\n",
              "    display: none;\n",
              "    fill: var(--fill-color);\n",
              "    height: 32px;\n",
              "    padding: 0;\n",
              "    width: 32px;\n",
              "  }\n",
              "\n",
              "  .colab-df-quickchart:hover {\n",
              "    background-color: var(--hover-bg-color);\n",
              "    box-shadow: 0 1px 2px rgba(60, 64, 67, 0.3), 0 1px 3px 1px rgba(60, 64, 67, 0.15);\n",
              "    fill: var(--button-hover-fill-color);\n",
              "  }\n",
              "\n",
              "  .colab-df-quickchart-complete:disabled,\n",
              "  .colab-df-quickchart-complete:disabled:hover {\n",
              "    background-color: var(--disabled-bg-color);\n",
              "    fill: var(--disabled-fill-color);\n",
              "    box-shadow: none;\n",
              "  }\n",
              "\n",
              "  .colab-df-spinner {\n",
              "    border: 2px solid var(--fill-color);\n",
              "    border-color: transparent;\n",
              "    border-bottom-color: var(--fill-color);\n",
              "    animation:\n",
              "      spin 1s steps(1) infinite;\n",
              "  }\n",
              "\n",
              "  @keyframes spin {\n",
              "    0% {\n",
              "      border-color: transparent;\n",
              "      border-bottom-color: var(--fill-color);\n",
              "      border-left-color: var(--fill-color);\n",
              "    }\n",
              "    20% {\n",
              "      border-color: transparent;\n",
              "      border-left-color: var(--fill-color);\n",
              "      border-top-color: var(--fill-color);\n",
              "    }\n",
              "    30% {\n",
              "      border-color: transparent;\n",
              "      border-left-color: var(--fill-color);\n",
              "      border-top-color: var(--fill-color);\n",
              "      border-right-color: var(--fill-color);\n",
              "    }\n",
              "    40% {\n",
              "      border-color: transparent;\n",
              "      border-right-color: var(--fill-color);\n",
              "      border-top-color: var(--fill-color);\n",
              "    }\n",
              "    60% {\n",
              "      border-color: transparent;\n",
              "      border-right-color: var(--fill-color);\n",
              "    }\n",
              "    80% {\n",
              "      border-color: transparent;\n",
              "      border-right-color: var(--fill-color);\n",
              "      border-bottom-color: var(--fill-color);\n",
              "    }\n",
              "    90% {\n",
              "      border-color: transparent;\n",
              "      border-bottom-color: var(--fill-color);\n",
              "    }\n",
              "  }\n",
              "</style>\n",
              "\n",
              "  <script>\n",
              "    async function quickchart(key) {\n",
              "      const quickchartButtonEl =\n",
              "        document.querySelector('#' + key + ' button');\n",
              "      quickchartButtonEl.disabled = true;  // To prevent multiple clicks.\n",
              "      quickchartButtonEl.classList.add('colab-df-spinner');\n",
              "      try {\n",
              "        const charts = await google.colab.kernel.invokeFunction(\n",
              "            'suggestCharts', [key], {});\n",
              "      } catch (error) {\n",
              "        console.error('Error during call to suggestCharts:', error);\n",
              "      }\n",
              "      quickchartButtonEl.classList.remove('colab-df-spinner');\n",
              "      quickchartButtonEl.classList.add('colab-df-quickchart-complete');\n",
              "    }\n",
              "    (() => {\n",
              "      let quickchartButtonEl =\n",
              "        document.querySelector('#df-4f2e75ab-977e-408f-9e64-b3ab45a0595a button');\n",
              "      quickchartButtonEl.style.display =\n",
              "        google.colab.kernel.accessAllowed ? 'block' : 'none';\n",
              "    })();\n",
              "  </script>\n",
              "</div>\n",
              "    </div>\n",
              "  </div>\n"
            ],
            "application/vnd.google.colaboratory.intrinsic+json": {
              "type": "dataframe",
              "variable_name": "surnames",
              "summary": "{\n  \"name\": \"surnames\",\n  \"rows\": 11113,\n  \"fields\": [\n    {\n      \"column\": \"surname\",\n      \"properties\": {\n        \"dtype\": \"string\",\n        \"num_unique_values\": 9174,\n        \"samples\": [\n          \"Weiss\",\n          \"Myatishkin\",\n          \"Forester\"\n        ],\n        \"semantic_type\": \"\",\n        \"description\": \"\"\n      }\n    },\n    {\n      \"column\": \"nationality\",\n      \"properties\": {\n        \"dtype\": \"category\",\n        \"num_unique_values\": 19,\n        \"samples\": [\n          \"Arabic\",\n          \"French\",\n          \"Korean\"\n        ],\n        \"semantic_type\": \"\",\n        \"description\": \"\"\n      }\n    },\n    {\n      \"column\": \"split\",\n      \"properties\": {\n        \"dtype\": \"category\",\n        \"num_unique_values\": 3,\n        \"samples\": [\n          \"train\",\n          \"val\",\n          \"test\"\n        ],\n        \"semantic_type\": \"\",\n        \"description\": \"\"\n      }\n    }\n  ]\n}"
            }
          },
          "metadata": {},
          "execution_count": 126
        }
      ]
    },
    {
      "cell_type": "markdown",
      "source": [
        "## Vocabulary, Vectorizer, Dataset\n",
        "we implement a dataset class, that returns the vectorized surname as well as the integer representing its nationality. Additionally returned is the length of the sequence, which is used in downstream computations to know where the final vector in the sequence is located. This is a part of the familiar sequence of steps - implementing Dataset, a Vectorizer, and a Vocabulary before the actual training can take place."
      ],
      "metadata": {
        "id": "zS1ET853qZ_i"
      }
    },
    {
      "cell_type": "markdown",
      "source": [
        "โค้ดที่ให้มีไว้เพื่อสร้างคลาส Vocabulary ซึ่งเป็นโครงสร้างพื้นฐานที่ใช้ในการจัดการกับโครงสร้างข้อมูลที่เกี่ยวข้องกับภาษา (text) ซึ่งประกอบไปด้วยฟังก์ชันสำคัญต่อไปนี้:\n",
        "\n",
        "1. _init__: ฟังก์ชันนี้ถูกเรียกเมื่อสร้างวัตถุของคลาส Vocabulary โดยมีพารามิเตอร์\n",
        "\n",
        "2. token_to_idx ซึ่งเป็นพารามิเตอร์ทางเลือก ถ้าไม่ได้รับค่า token_to_idx จะถือว่าเป็น None และจะกำหนดค่าให้เป็น dictionary ว่าง. และมี attribute _token_to_idx และ _idx_to_token ที่เก็บค่า mapping ระหว่าง token กับ index.\n",
        "\n",
        "3. to_serializable: ฟังก์ชันนี้คืนค่า dictionary ที่เป็น serializable ซึ่งประกอบด้วย _token_to_idx.\n",
        "\n",
        "4. from_serializable: เป็นเมทอดแบบ classmethod ที่ใช้ในการสร้างวัตถุ Vocabulary จาก dictionary ที่ serializable ที่รับมา.\n",
        "\n",
        "5. add_token: เพิ่ม token เข้าไปใน vocabulary และคืนค่า index ที่เพิ่มเข้าไป.\n",
        "\n",
        "6. add_many: เพิ่มลิสต์ของ tokens เข้าไปใน vocabulary และคืนค่าลิสต์ของ indices ที่เพิ่มเข้าไป.\n",
        "\n",
        "7. lookup_token: ค้นหา index ที่เกี่ยวข้องกับ token ที่กำหนด และคืนค่า index.\n",
        "\n",
        "8. lookup_index: ค้นหา token ที่เกี่ยวข้องกับ index ที่กำหนด และคืนค่า token.\n",
        "\n",
        "__str__: คืนค่า string ที่บอกขนาดของ vocabulary.\n",
        "\n",
        "__len__: คืนค่าจำนวนของ token ทั้งหมดใน vocabulary."
      ],
      "metadata": {
        "id": "I0vToSmG5MVC"
      }
    },
    {
      "cell_type": "code",
      "source": [
        "from argparse import Namespace\n",
        "import collections\n",
        "import pandas as pd\n",
        "import numpy as np\n",
        "\n",
        "def split_data(data, train_proportion, val_proportion, test_proportion, seed):\n",
        "    \"\"\"Split data into train, validation, and test sets.\"\"\"\n",
        "    by_nationality = collections.defaultdict(list)\n",
        "\n",
        "    for _, row in data.iterrows():\n",
        "        by_nationality[row.nationality].append(row.to_dict())\n",
        "\n",
        "    final_list = []\n",
        "    np.random.seed(seed)\n",
        "\n",
        "    for _, item_list in sorted(by_nationality.items()):\n",
        "        np.random.shuffle(item_list)\n",
        "        n = len(item_list)\n",
        "        n_train = int(train_proportion * n)\n",
        "        n_val = int(val_proportion * n)\n",
        "        n_test = int(test_proportion * n)\n",
        "\n",
        "        for item in item_list[:n_train]:\n",
        "            item['split'] = 'train'\n",
        "        for item in item_list[n_train:n_train + n_val]:\n",
        "            item['split'] = 'val'\n",
        "        for item in item_list[n_train + n_val:]:\n",
        "            item['split'] = 'test'\n",
        "\n",
        "        final_list.extend(item_list)\n",
        "\n",
        "    final_data = pd.DataFrame(final_list)\n",
        "    return final_data\n",
        "\n",
        "def main():\n",
        "    # Define arguments\n",
        "    args = Namespace(\n",
        "        raw_dataset_csv='/content/drive/MyDrive/TextPro2566/Surname/surnames.csv',\n",
        "        train_proportion=0.7,\n",
        "        val_proportion=0.15,\n",
        "        test_proportion=0.15,\n",
        "        output_munged_csv='/content/drive/MyDrive/TextPro2566/Surname/surnames.csv',\n",
        "        seed=1337\n",
        "    )\n",
        "\n",
        "    # Load raw data\n",
        "    surnames = pd.read_csv(args.raw_dataset_csv)\n",
        "\n",
        "    # Split data\n",
        "    final_surnames = split_data(surnames, args.train_proportion, args.val_proportion, args.test_proportion, args.seed)\n",
        "\n",
        "    # Show the count of data after splitting\n",
        "    print(final_surnames.split.value_counts())\n",
        "\n",
        "    # Save the final data to a CSV file\n",
        "    final_surnames.to_csv(args.output_munged_csv, index=False)\n",
        "\n",
        "if __name__ == \"__main__\":\n",
        "    main()"
      ],
      "metadata": {
        "colab": {
          "base_uri": "https://localhost:8080/"
        },
        "id": "kcvv5xI4oY7v",
        "outputId": "f4541572-d82a-4b7f-9396-023958700809"
      },
      "execution_count": null,
      "outputs": [
        {
          "output_type": "stream",
          "name": "stdout",
          "text": [
            "train    7773\n",
            "test     1681\n",
            "val      1659\n",
            "Name: split, dtype: int64\n"
          ]
        }
      ]
    },
    {
      "cell_type": "markdown",
      "source": [
        "1. สร้างฟังก์ชัน split_data เพื่อแยกตัวจัดการกับขั้นตอนการแบ่งข้อมูล\n",
        "2. นำโค้ดเกี่ยวกับการแบ่งข้อมูลมาใส่ในฟังก์ชัน split_data\n",
        "3. ใช้ฟังก์ชัน main เพื่อรวบรวมโค้ดและเรียกใช้ split_data\n",
        "4. สร้างเงื่อนไข if __name__ == \"__main__\": เพื่อตรวจสอบว่าโค้ดถูกเรียกใช้โดยตรงหรือไม่\n",
        "5. เพิ่มการแสดงผลจำนวนข้อมูลหลังแบ่งในฟังก์ชัน main\n",
        "---\n",
        "\n"
      ],
      "metadata": {
        "id": "b6h6o26luUuL"
      }
    },
    {
      "cell_type": "markdown",
      "source": [
        "##Class Vocabulary"
      ],
      "metadata": {
        "id": "ONG58xYjZFdq"
      }
    },
    {
      "cell_type": "code",
      "execution_count": null,
      "source": [
        "class Vocabulary(object):\n",
        "    \"\"\"Class to process text and extract vocabulary for mapping\"\"\"\n",
        "\n",
        "    def __init__(self, token_to_idx=None):\n",
        "        \"\"\"\n",
        "        Args:\n",
        "            token_to_idx (dict): a pre-existing map of tokens to indices\n",
        "        \"\"\"\n",
        "\n",
        "        if token_to_idx is None:\n",
        "            token_to_idx = {}\n",
        "        self._token_to_idx = token_to_idx\n",
        "\n",
        "        self._idx_to_token = {idx: token\n",
        "                              for token, idx in self._token_to_idx.items()}\n",
        "\n",
        "    def to_serializable(self):\n",
        "        \"\"\" returns a dictionary that can be serialized \"\"\"\n",
        "        return {'token_to_idx': self._token_to_idx}\n",
        "\n",
        "    @classmethod\n",
        "    def from_serializable(cls, contents):\n",
        "        \"\"\" instantiates the Vocabulary from a serialized dictionary \"\"\"\n",
        "        return cls(**contents)\n",
        "\n",
        "    def add_token(self, token):\n",
        "        \"\"\"Update mapping dicts based on the token.\n",
        "\n",
        "        Args:\n",
        "            token (str): the item to add into the Vocabulary\n",
        "        Returns:\n",
        "            index (int): the integer corresponding to the token\n",
        "        \"\"\"\n",
        "        if token in self._token_to_idx:\n",
        "            index = self._token_to_idx[token]\n",
        "        else:\n",
        "            index = len(self._token_to_idx)\n",
        "            self._token_to_idx[token] = index\n",
        "            self._idx_to_token[index] = token\n",
        "        return index\n",
        "\n",
        "    def add_many(self, tokens):\n",
        "        \"\"\"Add a list of tokens into the Vocabulary\n",
        "\n",
        "        Args:\n",
        "            tokens (list): a list of string tokens\n",
        "        Returns:\n",
        "            indices (list): a list of indices corresponding to the tokens\n",
        "        \"\"\"\n",
        "        return [self.add_token(token) for token in tokens]\n",
        "\n",
        "    def lookup_token(self, token):\n",
        "        \"\"\"Retrieve the index associated with the token\n",
        "\n",
        "        Args:\n",
        "            token (str): the token to look up\n",
        "        Returns:\n",
        "            index (int): the index corresponding to the token\n",
        "        \"\"\"\n",
        "        return self._token_to_idx[token]\n",
        "\n",
        "    def lookup_index(self, index):\n",
        "        \"\"\"Return the token associated with the index\n",
        "\n",
        "        Args:\n",
        "            index (int): the index to look up\n",
        "        Returns:\n",
        "            token (str): the token corresponding to the index\n",
        "        Raises:\n",
        "            KeyError: if the index is not in the Vocabulary\n",
        "        \"\"\"\n",
        "        if index not in self._idx_to_token:\n",
        "            raise KeyError(\"the index (%d) is not in the Vocabulary\" % index)\n",
        "        return self._idx_to_token[index]\n",
        "\n",
        "    def __str__(self):\n",
        "        return \"<Vocabulary(size=%d)>\" % len(self)\n",
        "\n",
        "    def __len__(self):\n",
        "        return len(self._token_to_idx)"
      ],
      "outputs": [],
      "metadata": {
        "id": "CWt5VKukqZ_i"
      }
    },
    {
      "cell_type": "markdown",
      "source": [
        "The first stage in the vectorization pipeline is to map each character token in the surname to a unique integer. To accomplish this, we use the `SequenceVocabulary` data structure\n"
      ],
      "metadata": {
        "id": "varcENzhqZ_k"
      }
    },
    {
      "cell_type": "markdown",
      "source": [
        "##Class Sequence Vocabulary"
      ],
      "metadata": {
        "id": "HsC2AShCZLtV"
      }
    },
    {
      "cell_type": "markdown",
      "source": [
        "คลาส SequenceVocabulary เป็นซับคลาสของคลาส Vocabulary และถูกออกแบบมาเพื่อให้รองรับการจัดการ sequence ของข้อความ. ลักษณะของคลาสนี้ได้รับการอธิบายได้ดังนี้:\n",
        "\n",
        "1. __init__: ฟังก์ชันนี้ถูกใช้ในการสร้างวัตถุของคลาส SequenceVocabulary. โดยมีพารามิเตอร์เพิ่มเติมคือ unk_token, mask_token, begin_seq_token, และ end_seq_token ซึ่งเป็น default ค่าที่ถูกกำหนดไว้. ฟังก์ชันนี้เรียกฟังก์ชัน __init__ ของคลาสแม่ (super(SequenceVocabulary, self).__init__(token_to_idx)) เพื่อสร้าง dictionary สำหรับ mapping token กับ index. และกำหนดค่า index ของ mask_token, unk_token, begin_seq_token, และ end_seq_token โดยใช้เมทอด add_token ของคลาส Vocabulary.\n",
        "\n",
        "2. to_serializable: เป็นฟังก์ชันที่คืนค่า dictionary ที่มีข้อมูลเกี่ยวกับคลาส SequenceVocabulary และที่สามารถนำไปใช้ในการ serialize object ของคลาสนี้ได้. ฟังก์ชันนี้ใช้ฟังก์ชัน to_serializable ของคลาสแม่เพื่อเก็บข้อมูลพื้นฐานของ vocabulary และเพิ่มข้อมูลเพิ่มเติมเกี่ยวกับ unk_token, mask_token, begin_seq_token, และ end_seq_token.\n",
        "\n",
        "3. lookup_token: เป็นฟังก์ชันที่ใช้ในการค้นหา index ของ token ใน vocabulary. ถ้า token นั้นไม่มีอยู่ใน vocabulary จะให้ index ของ token UNK (unknown) แทน. การค้นหานี้ถือว่าสำคัญในกรณีที่ต้องการจัดการ tokens ที่ไม่ได้ปรากฎใน vocabulary และต้องการให้มีการแทนที่ด้วย token UNK. ในกรณีที่ unk_index มีค่าน้อยกว่า 0 (ไม่มีการใช้ UNK), ฟังก์ชันจะคืนค่า index ของ token หากมีใน vocabulary, แต่ถ้าไม่มีจะเกิด KeyError."
      ],
      "metadata": {
        "id": "DbBWrJGz58Iu"
      }
    },
    {
      "cell_type": "code",
      "execution_count": null,
      "source": [
        "class SequenceVocabulary(Vocabulary):\n",
        "    def __init__(self, token_to_idx=None, unk_token=\"<UNK>\",\n",
        "                 mask_token=\"<MASK>\", begin_seq_token=\"<BEGIN>\",\n",
        "                 end_seq_token=\"<END>\"):\n",
        "\n",
        "        super(SequenceVocabulary, self).__init__(token_to_idx)\n",
        "\n",
        "        self._mask_token = mask_token\n",
        "        self._unk_token = unk_token\n",
        "        self._begin_seq_token = begin_seq_token\n",
        "        self._end_seq_token = end_seq_token\n",
        "\n",
        "        self.mask_index = self.add_token(self._mask_token)\n",
        "        self.unk_index = self.add_token(self._unk_token)\n",
        "        self.begin_seq_index = self.add_token(self._begin_seq_token)\n",
        "        self.end_seq_index = self.add_token(self._end_seq_token)\n",
        "\n",
        "    def to_serializable(self):\n",
        "        contents = super(SequenceVocabulary, self).to_serializable()\n",
        "        contents.update({'unk_token': self._unk_token,\n",
        "                         'mask_token': self._mask_token,\n",
        "                         'begin_seq_token': self._begin_seq_token,\n",
        "                         'end_seq_token': self._end_seq_token})\n",
        "        return contents\n",
        "\n",
        "    def lookup_token(self, token):\n",
        "        \"\"\"Retrieve the index associated with the token\n",
        "          or the UNK index if token isn't present.\n",
        "\n",
        "        Args:\n",
        "            token (str): the token to look up\n",
        "        Returns:\n",
        "            index (int): the index corresponding to the token\n",
        "        Notes:\n",
        "            `unk_index` needs to be >=0 (having been added into the Vocabulary)\n",
        "              for the UNK functionality\n",
        "        \"\"\"\n",
        "        if self.unk_index >= 0:\n",
        "            return self._token_to_idx.get(token, self.unk_index)\n",
        "        else:\n",
        "            return self._token_to_idx[token]"
      ],
      "outputs": [],
      "metadata": {
        "id": "KK0lyTyaqZ_l"
      }
    },
    {
      "cell_type": "markdown",
      "source": [
        "##Class SurnameVectorizer"
      ],
      "metadata": {
        "id": "vpYe2NxFZT35"
      }
    },
    {
      "cell_type": "markdown",
      "source": [
        "The overall vectorizer is `SurnameVectorizer`, which populates the `SequenceVocabulary` by surname characters, and the normal `Vocabulary` for nationalities."
      ],
      "metadata": {
        "id": "igq5z_UYqZ_l"
      }
    },
    {
      "cell_type": "code",
      "execution_count": null,
      "source": [
        "class SurnameVectorizer(object):\n",
        "    \"\"\" The Vectorizer which coordinates the Vocabularies and puts them to use\"\"\"\n",
        "    def __init__(self, char_vocab, nationality_vocab):\n",
        "        \"\"\"\n",
        "        Args:\n",
        "            char_vocab (Vocabulary): maps characters to integers\n",
        "            nationality_vocab (Vocabulary): maps nationalities to integers\n",
        "        \"\"\"\n",
        "        self.char_vocab = char_vocab\n",
        "        self.nationality_vocab = nationality_vocab\n",
        "\n",
        "    def vectorize(self, surname, vector_length=-1):\n",
        "        \"\"\"\n",
        "        Args:\n",
        "            title (str): the string of characters\n",
        "            vector_length (int): an argument for forcing the length of index vector\n",
        "        \"\"\"\n",
        "        indices = [self.char_vocab.begin_seq_index]\n",
        "        indices.extend(self.char_vocab.lookup_token(token)\n",
        "                       for token in surname)\n",
        "        indices.append(self.char_vocab.end_seq_index)\n",
        "\n",
        "        if vector_length < 0:\n",
        "            vector_length = len(indices)\n",
        "\n",
        "        out_vector = np.zeros(vector_length, dtype=np.int64)\n",
        "        out_vector[:len(indices)] = indices\n",
        "        out_vector[len(indices):] = self.char_vocab.mask_index\n",
        "\n",
        "        return out_vector, len(indices)\n",
        "\n",
        "    @classmethod\n",
        "    def from_dataframe(cls, surname_df):\n",
        "        \"\"\"Instantiate the vectorizer from the dataset dataframe\n",
        "\n",
        "        Args:\n",
        "            surname_df (pandas.DataFrame): the surnames dataset\n",
        "        Returns:\n",
        "            an instance of the SurnameVectorizer\n",
        "        \"\"\"\n",
        "        char_vocab = SequenceVocabulary()\n",
        "        nationality_vocab = Vocabulary()\n",
        "\n",
        "        for index, row in surname_df.iterrows():\n",
        "            for char in row.surname:\n",
        "                char_vocab.add_token(char)\n",
        "            nationality_vocab.add_token(row.nationality)\n",
        "\n",
        "        return cls(char_vocab, nationality_vocab)\n",
        "\n",
        "    @classmethod\n",
        "    def from_serializable(cls, contents):\n",
        "        char_vocab = SequenceVocabulary.from_serializable(contents['char_vocab'])\n",
        "        nat_vocab =  Vocabulary.from_serializable(contents['nationality_vocab'])\n",
        "\n",
        "        return cls(char_vocab=char_vocab, nationality_vocab=nat_vocab)\n",
        "\n",
        "    def to_serializable(self):\n",
        "        return {'char_vocab': self.char_vocab.to_serializable(),\n",
        "                'nationality_vocab': self.nationality_vocab.to_serializable()}"
      ],
      "outputs": [],
      "metadata": {
        "id": "kbu1owMgqZ_m"
      }
    },
    {
      "cell_type": "markdown",
      "source": [
        "\n",
        "คลาส SurnameDataset เป็นคลาสที่เกี่ยวเนื่องมาจาก Dataset ใน PyTorch และถูกออกแบบมาเพื่อใช้ในการจัดการข้อมูลที่เกี่ยวข้องกับงานการทำนายนามสกุลและสัญชาติ (surname and nationality) ซึ่งมักจะมีลำดับ (sequence) ในข้อความ. ได้แก่ ข้อมูลเช่นนามสกุล, สัญชาติ, และการแบ่งชุด (split) ที่ระบุว่าเป็นชุด train, validation, หรือ test.\n",
        "\n",
        "ตัวแปรหลัก:\n",
        "1. surname_df: DataFrame ที่มีข้อมูลนามสกุลและสัญชาติทั้งหมด\n",
        "2. _vectorizer: Vectorizer ที่ใช้ในการแปลงข้อมูลเป็นรูปแบบที่เหมาะสมสำหรับการนำเข้าโมเดล\n",
        "3. _max_seq_length: ความยาวสูงสุดของ sequence ที่เก็บไว้ (จะมีการเพิ่ม 2 เพื่อให้มีพื้นที่สำหรับ token <BEGIN> และ <END>)\n",
        "4. train_df, val_df, test_df: DataFrame ที่เก็บข้อมูลแบ่งตามชุด (train, validation, test)\n",
        "5. train_size, validation_size, test_size: จำนวนข้อมูลในแต่ละชุด\n",
        "6. _lookup_dict: Dictionary ที่เก็บ DataFrame และขนาดข้อมูลสำหรับแต่ละชุด\n",
        "7. _target_split: ชื่อชุดที่ถูกเลือกในปัจจุบัน (default เป็น train)\n",
        "8. _target_df, _target_size: DataFrame และขนาดข้อมูลสำหรับชุดที่ถูกเลือก\n",
        "9. class_weights: น้ำหนักของแต่ละ class ในชุด train ที่ใช้ในการปรับสมดุลของข้อมูล (imbalance) ในกรณีทำนายแบบ multi-class classification\n",
        "\n",
        "เมทอดหลัก:\n",
        "1. set_split(split): เปลี่ยนชุดที่ถูกเลือกในปัจจุบันเป็นชุดที่ระบุ (train, validation, test)\n",
        "2. __len__: คืนค่าขนาดของชุดที่ถูกเลือก\n",
        "3. __getitem__: คืนค่าข้อมูลในรูปแบบที่เหมาะสมสำหรับนำเข้าโมเดล (features, labels, lengths)\n",
        "4. get_num_batches(batch_size): คืนค่าจำนวน batch ที่เป็นไปได้ตามขนาด batch ที่ระบุ\n",
        "5. generate_batches: เป็น generator function ที่ใช้ในการสร้าง batch ข้อมูลโดยใช้ PyTorch DataLoader และจัดการเลือก device ที่ถูกต้อง\n",
        "\n",
        "เมทอดสร้างชุดข้อมูล:\n",
        "1. load_dataset_and_make_vectorizer(surname_csv): โหลดชุดข้อมูลและสร้าง Vectorizer ใหม่จากข้อมูล training set\n",
        "2. load_dataset_and_load_vectorizer(surname_csv, vectorizer_filepath): โหลดชุดข้อมูลและ Vectorizer ที่มีอยู่จาก"
      ],
      "metadata": {
        "id": "_uB7nqzk8JBI"
      }
    },
    {
      "cell_type": "markdown",
      "source": [
        "##Class SurnameDataset"
      ],
      "metadata": {
        "id": "3wfniAzOdDaq"
      }
    },
    {
      "cell_type": "code",
      "execution_count": null,
      "source": [
        "class SurnameDataset(Dataset):\n",
        "    def __init__(self, surname_df, vectorizer):\n",
        "        \"\"\"\n",
        "        Args:\n",
        "            surname_df (pandas.DataFrame): the dataset\n",
        "            vectorizer (SurnameVectorizer): vectorizer instatiated from dataset\n",
        "        \"\"\"\n",
        "        self.surname_df = surname_df\n",
        "        self._vectorizer = vectorizer\n",
        "\n",
        "        self._max_seq_length = max(map(len, self.surname_df.surname)) + 2\n",
        "\n",
        "        self.train_df = self.surname_df[self.surname_df.split=='train']\n",
        "        self.train_size = len(self.train_df)\n",
        "\n",
        "        self.val_df = self.surname_df[self.surname_df.split=='val']\n",
        "        self.validation_size = len(self.val_df)\n",
        "\n",
        "        self.test_df = self.surname_df[self.surname_df.split=='test']\n",
        "        self.test_size = len(self.test_df)\n",
        "\n",
        "        self._lookup_dict = {'train': (self.train_df, self.train_size),\n",
        "                             'val': (self.val_df, self.validation_size),\n",
        "                             'test': (self.test_df, self.test_size)}\n",
        "\n",
        "        self.set_split('train')\n",
        "\n",
        "        # Class weights\n",
        "        class_counts = self.train_df.nationality.value_counts().to_dict()\n",
        "        def sort_key(item):\n",
        "            return self._vectorizer.nationality_vocab.lookup_token(item[0])\n",
        "        sorted_counts = sorted(class_counts.items(), key=sort_key)\n",
        "        frequencies = [count for _, count in sorted_counts]\n",
        "        self.class_weights = 1.0 / torch.tensor(frequencies, dtype=torch.float32)\n",
        "\n",
        "\n",
        "    @classmethod\n",
        "    def load_dataset_and_make_vectorizer(cls, surname_csv):\n",
        "        \"\"\"Load dataset and make a new vectorizer from scratch\n",
        "\n",
        "        Args:\n",
        "            surname_csv (str): location of the dataset\n",
        "        Returns:\n",
        "            an instance of SurnameDataset\n",
        "        \"\"\"\n",
        "        surname_df = pd.read_csv(surname_csv)\n",
        "        train_surname_df = surname_df[surname_df.split=='train']\n",
        "        return cls(surname_df, SurnameVectorizer.from_dataframe(train_surname_df))\n",
        "\n",
        "    @classmethod\n",
        "    def load_dataset_and_load_vectorizer(cls, surname_csv, vectorizer_filepath):\n",
        "        \"\"\"Load dataset and the corresponding vectorizer.\n",
        "        Used in the case in the vectorizer has been cached for re-use\n",
        "\n",
        "        Args:\n",
        "            surname_csv (str): location of the dataset\n",
        "            vectorizer_filepath (str): location of the saved vectorizer\n",
        "        Returns:\n",
        "            an instance of SurnameDataset\n",
        "        \"\"\"\n",
        "        surname_df = pd.read_csv(surname_csv)\n",
        "        vectorizer = cls.load_vectorizer_only(vectorizer_filepath)\n",
        "        return cls(surname_df, vectorizer)\n",
        "\n",
        "    @staticmethod\n",
        "    def load_vectorizer_only(vectorizer_filepath):\n",
        "        \"\"\"a static method for loading the vectorizer from file\n",
        "\n",
        "        Args:\n",
        "            vectorizer_filepath (str): the location of the serialized vectorizer\n",
        "        Returns:\n",
        "            an instance of SurnameVectorizer\n",
        "        \"\"\"\n",
        "        with open(vectorizer_filepath) as fp:\n",
        "            return SurnameVectorizer.from_serializable(json.load(fp))\n",
        "\n",
        "    def save_vectorizer(self, vectorizer_filepath):\n",
        "        \"\"\"saves the vectorizer to disk using json\n",
        "\n",
        "        Args:\n",
        "            vectorizer_filepath (str): the location to save the vectorizer\n",
        "        \"\"\"\n",
        "        with open(vectorizer_filepath, \"w\") as fp:\n",
        "            json.dump(self._vectorizer.to_serializable(), fp)\n",
        "\n",
        "    def get_vectorizer(self):\n",
        "        \"\"\" returns the vectorizer \"\"\"\n",
        "        return self._vectorizer\n",
        "\n",
        "    def set_split(self, split=\"train\"):\n",
        "        self._target_split = split\n",
        "        self._target_df, self._target_size = self._lookup_dict[split]\n",
        "\n",
        "    def __len__(self):\n",
        "        return self._target_size\n",
        "\n",
        "    def __getitem__(self, index):\n",
        "        \"\"\"the primary entry point method for PyTorch datasets\n",
        "\n",
        "        Args:\n",
        "            index (int): the index to the data point\n",
        "        Returns:\n",
        "            a dictionary holding the data point's:\n",
        "                features (x_data)\n",
        "                label (y_target)\n",
        "                feature length (x_length)\n",
        "        \"\"\"\n",
        "        row = self._target_df.iloc[index]\n",
        "\n",
        "        surname_vector, vec_length = \\\n",
        "            self._vectorizer.vectorize(row.surname, self._max_seq_length)\n",
        "\n",
        "        nationality_index = \\\n",
        "            self._vectorizer.nationality_vocab.lookup_token(row.nationality)\n",
        "\n",
        "        return {'x_data': surname_vector,\n",
        "                'y_target': nationality_index,\n",
        "                'x_length': vec_length}\n",
        "\n",
        "    def get_num_batches(self, batch_size):\n",
        "        \"\"\"Given a batch size, return the number of batches in the dataset\n",
        "\n",
        "        Args:\n",
        "            batch_size (int)\n",
        "        Returns:\n",
        "            number of batches in the dataset\n",
        "        \"\"\"\n",
        "        return len(self) // batch_size\n",
        "\n",
        "\n",
        "\n",
        "def generate_batches(dataset, batch_size, shuffle=True,\n",
        "                     drop_last=True, device=\"cpu\"):\n",
        "    \"\"\"\n",
        "    A generator function which wraps the PyTorch DataLoader. It will\n",
        "      ensure each tensor is on the write device location.\n",
        "    \"\"\"\n",
        "    dataloader = DataLoader(dataset=dataset, batch_size=batch_size,\n",
        "                            shuffle=shuffle, drop_last=drop_last)\n",
        "\n",
        "    for data_dict in dataloader:\n",
        "        out_data_dict = {}\n",
        "        for name, tensor in data_dict.items():\n",
        "            out_data_dict[name] = data_dict[name].to(device)\n",
        "        yield out_data_dict"
      ],
      "outputs": [],
      "metadata": {
        "id": "vH1N30ryqZ_m"
      }
    },
    {
      "cell_type": "markdown",
      "source": [
        "## Model\n",
        "\n",
        "The `SurnameClassifier` model is composed of an Embedding layer, the ElmanRNN, and a Linear layer.\n",
        "The arguments to the model are\n",
        "\n",
        "- the size of the embeddings - *hyperparameter*,\n",
        "- the number of embeddings (i.e., vocabulary size) - determined by the data,\n",
        "- the number of classes - determined by the data, and\n",
        "- the hidden state size of the RNN - *hyperparameter*.\n",
        "\n",
        ":::{important}\n",
        "Although the two hyperparameters can take on any value, it is usually good to start with something small that ensures fast training, as a way verifying that the model actually works.\n",
        ":::"
      ],
      "metadata": {
        "id": "Yb50QSugqZ_o"
      }
    },
    {
      "cell_type": "markdown",
      "source": [
        "ฟังก์ชั่น column_gather ใช้เพื่อดึงเวกเตอร์ที่กำหนดจากทุกๆ แถวในชุดข้อมูล y_out ตามค่าที่ระบุใน x_lengths ของแถวนั้นๆ:\n",
        "\n",
        "Input:\n",
        "\n",
        "y_out (torch.FloatTensor, torch.cuda.FloatTensor): เป็นเมทริกซ์ข้อมูลที่มีขนาด (batch, sequence, feature) ซึ่งเก็บข้อมูลที่โมเดลทำนาย\n",
        "x_lengths (torch.LongTensor, torch.cuda.LongTensor): เป็นเวกเตอร์ขนาด (batch,) ที่เก็บความยาวของแต่ละ sequence ในชุดข้อมูล\n",
        "\n",
        "Output:\n",
        "\n",
        "y_out (torch.FloatTensor, torch.cuda.FloatTensor): เป็นเมทริกซ์ขนาด (batch, feature) ที่เก็บเวกเตอร์ที่ถูกดึงออกมาจากทุกๆ แถวใน y_out ตามค่าที่ระบุใน x_lengths\n",
        "\n",
        "ขั้นตอนการทำงาน:\n",
        "\n",
        "1. ทำการแปลง x_lengths จาก torch.LongTensor ให้เป็น numpy array และลบ 1 ออกจากค่าในแต่ละตำแหน่ง (x_lengths - 1)\n",
        "2. สร้าง list ชื่อ out เพื่อเก็บเวกเตอร์ที่ดึงมาจากทุกๆ แถว\n",
        "3. ในการวนลูปผ่านทุกแถวของชุดข้อมูล:\n",
        "   *   นำ batch_index และ column_index ที่ได้จาก x_lengths มาใช้ในการดึงเวกเตอร์จาก y_out\n",
        "  *   นำเวกเตอร์ที่ได้ไปเพิ่มใน list out\n",
        "4. ใช้ torch.stack(out) เพื่อรวมเวกเตอร์ทั้งหมดใน list เป็นเมทริกซ์ y_out ขนาด (batch, feature) และคืนค่า"
      ],
      "metadata": {
        "id": "i14EPjNY8-g2"
      }
    },
    {
      "cell_type": "code",
      "execution_count": null,
      "source": [
        "def column_gather(y_out, x_lengths):\n",
        "    '''Get a specific vector from each batch datapoint in `y_out`.\n",
        "\n",
        "    More precisely, iterate over batch row indices, get the vector that's at\n",
        "    the position indicated by the corresponding value in `x_lengths` at the row\n",
        "    index.\n",
        "\n",
        "    Args:\n",
        "        y_out (torch.FloatTensor, torch.cuda.FloatTensor)\n",
        "            shape: (batch, sequence, feature)\n",
        "        x_lengths (torch.LongTensor, torch.cuda.LongTensor)\n",
        "            shape: (batch,)\n",
        "\n",
        "    Returns:\n",
        "        y_out (torch.FloatTensor, torch.cuda.FloatTensor)\n",
        "            shape: (batch, feature)\n",
        "    '''\n",
        "    x_lengths = x_lengths.long().detach().cpu().numpy() - 1\n",
        "\n",
        "    out = []\n",
        "    for batch_index, column_index in enumerate(x_lengths):\n",
        "        out.append(y_out[batch_index, column_index])\n",
        "\n",
        "    return torch.stack(out)\n"
      ],
      "outputs": [],
      "metadata": {
        "id": "EeXOvtzpqZ_p"
      }
    },
    {
      "cell_type": "markdown",
      "source": [
        "The ElmanRNN model"
      ],
      "metadata": {
        "id": "XGrOdst0qZ_p"
      }
    },
    {
      "cell_type": "code",
      "execution_count": null,
      "source": [
        "class ElmanRNN(nn.Module):\n",
        "    def __init__(self, input_size, hidden_size, batch_first=False):\n",
        "        super(ElmanRNN, self).__init__()\n",
        "\n",
        "        self.rnn_cell = nn.RNNCell(input_size, hidden_size)\n",
        "        self.batch_first = batch_first\n",
        "        self.hidden_size = hidden_size\n",
        "\n",
        "    def _initial_hidden(self, batch_size):\n",
        "        return torch.zeros((batch_size, self.hidden_size))\n",
        "\n",
        "    def forward(self, x_in, initial_hidden=None):\n",
        "        if self.batch_first:\n",
        "            batch_size, seq_size, feat_size = x_in.size()\n",
        "            x_in = x_in.permute(1, 0, 2)\n",
        "        else:\n",
        "            x_in = x_in.permute(0, 2, 1)\n",
        "            seq_size, batch_size, feat_size = x_in.size()\n",
        "\n",
        "        hiddens = []\n",
        "\n",
        "        if initial_hidden is None:\n",
        "            initial_hidden = self._initial_hidden(batch_size)\n",
        "            initial_hidden = initial_hidden.to(x_in.device)\n",
        "\n",
        "        hidden_t = initial_hidden\n",
        "\n",
        "        for t in range(seq_size):\n",
        "            hidden_t = self.rnn_cell(x_in[t], hidden_t)\n",
        "            hiddens.append(hidden_t)\n",
        "\n",
        "        hiddens = torch.stack(hiddens)\n",
        "\n",
        "        if self.batch_first:\n",
        "            hiddens = hiddens.permute(1, 0, 2)\n",
        "\n",
        "        return hiddens\n",
        "\n",
        "\n",
        "class SurnameClassifier(nn.Module):\n",
        "    def __init__(self, embedding_size, num_embeddings, num_classes,\n",
        "                 rnn_hidden_size, batch_first=True, padding_idx=0):\n",
        "        super(SurnameClassifier, self).__init__()\n",
        "\n",
        "        self.emb = nn.Embedding(num_embeddings=num_embeddings,\n",
        "                                embedding_dim=embedding_size,\n",
        "                                padding_idx=padding_idx)\n",
        "        self.rnn = ElmanRNN(input_size=embedding_size,\n",
        "                            hidden_size=rnn_hidden_size,\n",
        "                            batch_first=batch_first)\n",
        "        self.fc1 = nn.Linear(in_features=rnn_hidden_size,\n",
        "                             out_features=rnn_hidden_size)\n",
        "        self.fc2 = nn.Linear(in_features=rnn_hidden_size,\n",
        "                             out_features=num_classes)\n",
        "\n",
        "        self.dropout = nn.Dropout(0.5)\n",
        "\n",
        "    def forward(self, x_in, x_lengths=None, apply_softmax=False):\n",
        "        x_embedded = self.emb(x_in)\n",
        "        y_out = self.rnn(x_embedded)\n",
        "\n",
        "        if x_lengths is not None:\n",
        "            y_out = column_gather(y_out, x_lengths)\n",
        "        else:\n",
        "            y_out = y_out[:, -1, :]\n",
        "\n",
        "        y_out = F.relu(self.fc1(self.dropout(y_out)))\n",
        "        y_out = self.fc2(self.dropout(y_out))\n",
        "\n",
        "        if apply_softmax:\n",
        "            y_out = F.softmax(y_out, dim=1)\n",
        "\n",
        "        return y_out"
      ],
      "outputs": [],
      "metadata": {
        "id": "sGo0zbH_qZ_p"
      }
    },
    {
      "cell_type": "markdown",
      "source": [
        "คลาส ElmanRNN คือโมเดลที่ใช้ RNNCell ของ PyTorch ในการสร้าง Elman RNN โดยโมเดล Elman RNN ที่ใช้ RNNCell ในการอัปเดต hidden state ของ sequence\n",
        "\n",
        "ส่วนสำคัญ:\n",
        "\n",
        "1. __init__: สร้างโมเดล Elman RNN โดยรับ input size, hidden size, และ batch_first ในการกำหนดว่า batch dimension จะอยู่ที่มุมแรกหรือไม่.\n",
        "2. _initial_hidden: สร้าง hidden state เริ่มต้นที่มีค่าเป็นศูนย์ ขนาด (batch_size, hidden_size).\n",
        "3. forward: ทำ forward pass โดยรับ input tensor x_in และ hidden state เริ่มต้น (ถ้าไม่ระบุจะใช้ hidden state 0) และคืน hidden states ที่ถูกสร้างขึ้นในแต่ละ time step ของ sequence.\n",
        "\n",
        "คลาส SurnameClassifier คือโมเดลที่ใช้ Elman RNN และ MLP (Multi-Layer Perceptron) ในการจัดการงานการทำนาย: เป็นโมเดลที่ใช้ Elman RNN ในการดึง feature และ MLP ในการทำนายสัญชาติของนามสกุล\n",
        "\n",
        "ส่วนสำคัญ:\n",
        "\n",
        "1. __init__: สร้างโมเดล SurnameClassifier โดยรับพารามิเตอร์ที่จำเป็นเพื่อกำหนดคุณสมบัติของโมเดล เช่น embedding size, num_embeddings, num_classes, และอื่นๆ.\n",
        "2. forward: ทำ forward pass โดยรับ input tensor x_in, embeddings โดยใช้ embedding layer (self.emb), ทำ forward pass กับ Elman RNN (self.rnn), และผ่าน MLP (self.fc1 และ self.fc2) เพื่อทำนายคลาส. สามารถใส่ความยาวของแต่ละ sequence (x_lengths) เพื่อให้ได้เวกเตอร์ที่อยู่ที่ตำแหน่งสุดท้ายของแต่ละ sequence.\n",
        "3. apply_softmax: ถ้าตั้งค่าเป็น True จะใช้ softmax activation function สำหรับการทำนาย output. ในกรณีใช้กับ Cross Entropy losses ควรตั้งค่าเป็น False\n"
      ],
      "metadata": {
        "id": "iFPEtQCh9x56"
      }
    },
    {
      "cell_type": "code",
      "execution_count": null,
      "source": [
        "def set_seed_everywhere(seed, cuda):\n",
        "    np.random.seed(seed)\n",
        "    torch.manual_seed(seed)\n",
        "    if cuda:\n",
        "        torch.cuda.manual_seed_all(seed)\n",
        "\n",
        "def handle_dirs(dirpath):\n",
        "    if not os.path.exists(dirpath):\n",
        "        os.makedirs(dirpath)"
      ],
      "outputs": [],
      "metadata": {
        "id": "7J6IvbqlqZ_r"
      }
    },
    {
      "cell_type": "markdown",
      "source": [
        "set_seed_everywhere คือฟังก์ชันที่ใช้ในการตั้งค่า seed สำหรับการสร้างตัวเลขสุ่มใน NumPy และ PyTorch ทำให้การสร้างตัวเลขสุ่มเป็นไปตามลำดับที่กำหนดโดย seed เดียวกัน\n",
        "ส่วนสำคัญ:\n",
        "\n",
        "1. seed : คือค่า seed ที่ถูกใช้ในการกำหนดการสร้างตัวเลขสุ่ม การกำหนด seed เดียวกันจะทำให้ได้ผลลัพธ์ที่เหมือนกันทุกรอบ.\n",
        "2. cuda: คือตัวแปรที่บอกว่าจะใช้ CUDA (GPU) หรือไม่ ถ้าใช้ CUDA จะต้องตั้งค่า seed สำหรับ GPU ด้วย.\n",
        "3. handle_dirs คือฟังก์ชันที่ใช้ในการตรวจสอบและสร้าง directory หาก directory นั้นยังไม่มีอยู่ ซึ่งมักใช้ในกรณีที่ต้องการบันทึกโมเดลหรือไฟล์อื่นๆ ที่ต้องการเก็บไว้ใน directory ที่กำหนด."
      ],
      "metadata": {
        "id": "3BoCr4or-kbU"
      }
    },
    {
      "cell_type": "markdown",
      "source": [
        "## Settings"
      ],
      "metadata": {
        "id": "EWXHEEM7qZ_s"
      }
    },
    {
      "cell_type": "markdown",
      "source": [
        "โค้ดนี้มีวัตถุประสงค์เพื่อกำหนดค่าพารามิเตอร์สำหรับการฝึกโมเดลและทำงานกับข้อมูลในแบบคำสั่งเฉพาะของ Python โดยใช้ argparse.Namespace เป็นโครงสร้างข้อมูล. ดูดวงเพิ่มเติมข้างล่าง:\n",
        "\n",
        "Data and path information:\n",
        "- surname_csv: ชื่อไฟล์ CSV ที่มีข้อมูลนามสกุลและข้อมูลการแบ่งกลุ่ม (splits).\n",
        "- vectorizer_file: ชื่อไฟล์ JSON ที่จะใช้เก็บข้อมูล vectorizer.\n",
        "- model_state_file: ชื่อไฟล์เพื่อบันทึก state ของโมเดล (weights).\n",
        "- save_dir: ที่เก็บไฟล์ที่จะบันทึก\n",
        "\n",
        "Model hyperparameters:\n",
        "- char_embedding_size: ขนาดของ embedding สำหรับตัวอักษร.\n",
        "- rnn_hidden_size: ขนาดของ hidden state ในโมเดล RNN.\n",
        "\n",
        "Training hyperparameters:\n",
        "- num_epochs: จำนวน epoch ที่จะทำการฝึก.\n",
        "- learning_rate: อัตราการเรียนรู้ของโมเดล.\n",
        "- batch_size: ขนาดของ batch ในการฝึก.\n",
        "- seed: seed สำหรับการสุ่ม (random seed).\n",
        "- early_stopping_criteria: เกณฑ์ในการหยุดการฝึกเร็ว (early stopping criteria)\n",
        "\n",
        "Runtime hyperparameters:\n",
        "- cuda: ใช้ GPU (True) หรือไม่ (False)\n",
        "- reload_from_files: โหลดข้อมูลจากไฟล์หรือไม่.\n",
        "- expand_filepaths_to_save_dir: สร้าง path สำหรับบันทึกข้อมูลใน save_dir\n",
        "\n",
        "โค้ดทำการตรวจสอบว่า CUDA (GPU) ใช้ได้หรือไม่ และกำหนด args.device ตามนั้น โดยใช้ GPU ถ้า args.cuda เป็น True และใช้ CPU ถ้า args.cuda เป็น False. สุดท้ายก็ทำการตั้งค่า seed สำหรับการสุ่มและสร้าง directory ที่จะใช้ในการบันทึกไฟล์ผลลัพธ์.\n",
        "\n",
        "สรุปได้ว่าโค้ดนี้เป็นการกำหนดค่าพารามิเตอร์และทำการเตรียมสภาพแวดล้อมสำหรับการฝึกโมเดลในโครงการที่ใช้งาน Python."
      ],
      "metadata": {
        "id": "XV3kl0Sf_cdC"
      }
    },
    {
      "cell_type": "code",
      "execution_count": null,
      "source": [
        "args = Namespace(\n",
        "    # Data and path information\n",
        "    surname_csv=\"surnames_with_splits.csv\",\n",
        "    vectorizer_file=\"vectorizer.json\",\n",
        "    model_state_file=\"model.pth\",\n",
        "    save_dir=\"model_storage/ch6/surname_classification\",\n",
        "\n",
        "    # Model hyper parameter\n",
        "    char_embedding_size=200,\n",
        "    rnn_hidden_size=900,\n",
        "\n",
        "    # Training hyper parameter\n",
        "    num_epochs=30,\n",
        "    learning_rate=1e-4,\n",
        "    batch_size=64,\n",
        "    seed=1337,\n",
        "    early_stopping_criteria=5,\n",
        "\n",
        "    # Runtime hyper parameter\n",
        "    cuda=True,\n",
        "    catch_keyboard_interrupt=True,\n",
        "    reload_from_files=False,\n",
        "    expand_filepaths_to_save_dir=True,\n",
        ")\n",
        "\n",
        "# Check CUDA\n",
        "if not torch.cuda.is_available():\n",
        "    args.cuda = False\n",
        "\n",
        "args.device = torch.device(\"cuda\" if args.cuda else \"cpu\")\n",
        "\n",
        "print(\"Using CUDA: {}\".format(args.cuda))\n",
        "\n",
        "\n",
        "if args.expand_filepaths_to_save_dir:\n",
        "    args.vectorizer_file = os.path.join(args.save_dir,\n",
        "                                        args.vectorizer_file)\n",
        "\n",
        "    args.model_state_file = os.path.join(args.save_dir,\n",
        "                                         args.model_state_file)\n",
        "\n",
        "# Set seed for reproducibility\n",
        "set_seed_everywhere(args.seed, args.cuda)\n",
        "\n",
        "# handle dirs\n",
        "handle_dirs(args.save_dir)"
      ],
      "outputs": [
        {
          "output_type": "stream",
          "name": "stdout",
          "text": [
            "Using CUDA: False\n"
          ]
        }
      ],
      "metadata": {
        "code_folding": [],
        "colab": {
          "base_uri": "https://localhost:8080/"
        },
        "id": "vrhNH38kqZ_s",
        "outputId": "e309ac4b-7cc6-4b56-bc52-4b9b4772aaee"
      }
    },
    {
      "cell_type": "code",
      "execution_count": null,
      "source": [
        "if args.reload_from_files and os.path.exists(args.vectorizer_file):\n",
        "    # training from a checkpoint\n",
        "    dataset = SurnameDataset.load_dataset_and_load_vectorizer(args.surname_csv,\n",
        "                                                              args.vectorizer_file)\n",
        "else:\n",
        "    # create dataset and vectorizer\n",
        "    dataset = SurnameDataset.load_dataset_and_make_vectorizer(args.surname_csv)\n",
        "    dataset.save_vectorizer(args.vectorizer_file)\n",
        "\n",
        "vectorizer = dataset.get_vectorizer()\n",
        "\n",
        "classifier = SurnameClassifier(embedding_size=args.char_embedding_size,\n",
        "                               num_embeddings=len(vectorizer.char_vocab),\n",
        "                               num_classes=len(vectorizer.nationality_vocab),\n",
        "                               rnn_hidden_size=args.rnn_hidden_size,\n",
        "                               padding_idx=vectorizer.char_vocab.mask_index)"
      ],
      "outputs": [],
      "metadata": {
        "code_folding": [
          0,
          4
        ],
        "id": "x3dKLpM1qZ_u"
      }
    },
    {
      "cell_type": "code",
      "source": [
        "print(vectorizer.char_vocab)\n",
        "print(dataset._max_seq_length)\n",
        "print(vectorizer.nationality_vocab)"
      ],
      "metadata": {
        "colab": {
          "base_uri": "https://localhost:8080/"
        },
        "id": "zhUVzl69t1ZK",
        "outputId": "18dcf144-26e5-4484-d53d-bccb8405979c"
      },
      "execution_count": null,
      "outputs": [
        {
          "output_type": "stream",
          "name": "stdout",
          "text": [
            "<Vocabulary(size=81)>\n",
            "20\n",
            "<Vocabulary(size=19)>\n"
          ]
        }
      ]
    },
    {
      "cell_type": "code",
      "source": [
        "dataset[0]"
      ],
      "metadata": {
        "colab": {
          "base_uri": "https://localhost:8080/"
        },
        "id": "8EXnIL2It4eS",
        "outputId": "cd37ba84-6d13-40aa-c3be-7dd88e982201"
      },
      "execution_count": null,
      "outputs": [
        {
          "output_type": "execute_result",
          "data": {
            "text/plain": [
              "{'x_data': array([2, 4, 5, 6, 7, 8, 3, 0, 0, 0, 0, 0, 0, 0, 0, 0, 0, 0, 0, 0]),\n",
              " 'y_target': 0,\n",
              " 'x_length': 7}"
            ]
          },
          "metadata": {},
          "execution_count": 136
        }
      ]
    },
    {
      "cell_type": "code",
      "source": [
        "dataset._target_df.iloc[0]"
      ],
      "metadata": {
        "colab": {
          "base_uri": "https://localhost:8080/"
        },
        "id": "oxhsF0yPt7G1",
        "outputId": "c1a88095-288b-4d59-c709-a74fbd6b0111"
      },
      "execution_count": null,
      "outputs": [
        {
          "output_type": "execute_result",
          "data": {
            "text/plain": [
              "surname         Totah\n",
              "nationality    Arabic\n",
              "split           train\n",
              "Name: 0, dtype: object"
            ]
          },
          "metadata": {},
          "execution_count": 137
        }
      ]
    },
    {
      "cell_type": "code",
      "source": [
        "print([vectorizer.char_vocab.lookup_index(i) for i in dataset[0]['x_data']])"
      ],
      "metadata": {
        "colab": {
          "base_uri": "https://localhost:8080/"
        },
        "id": "rAeNOuFHt-0_",
        "outputId": "16b7b355-9e00-440c-a6e7-7522315798f0"
      },
      "execution_count": null,
      "outputs": [
        {
          "output_type": "stream",
          "name": "stdout",
          "text": [
            "['<BEGIN>', 'T', 'o', 't', 'a', 'h', '<END>', '<MASK>', '<MASK>', '<MASK>', '<MASK>', '<MASK>', '<MASK>', '<MASK>', '<MASK>', '<MASK>', '<MASK>', '<MASK>', '<MASK>', '<MASK>']\n"
          ]
        }
      ]
    },
    {
      "cell_type": "code",
      "source": [
        "classifier"
      ],
      "metadata": {
        "colab": {
          "base_uri": "https://localhost:8080/"
        },
        "id": "3-OIxWy7uBji",
        "outputId": "240da834-d8eb-474f-ce48-2167a5b666d0"
      },
      "execution_count": null,
      "outputs": [
        {
          "output_type": "execute_result",
          "data": {
            "text/plain": [
              "SurnameClassifier(\n",
              "  (emb): Embedding(81, 200, padding_idx=0)\n",
              "  (rnn): ElmanRNN(\n",
              "    (rnn_cell): RNNCell(200, 900)\n",
              "  )\n",
              "  (fc1): Linear(in_features=900, out_features=900, bias=True)\n",
              "  (fc2): Linear(in_features=900, out_features=19, bias=True)\n",
              "  (dropout): Dropout(p=0.5, inplace=False)\n",
              ")"
            ]
          },
          "metadata": {},
          "execution_count": 139
        }
      ]
    },
    {
      "cell_type": "code",
      "source": [
        "# @title\n",
        "x_in = torch.LongTensor(dataset[0]['x_data']).unsqueeze(0)\n",
        "x_len = torch.LongTensor([dataset[0]['x_length']])\n",
        "print(x_in.shape)\n",
        "print(x_len.shape)\n",
        "classifier(x_in, x_len).shape"
      ],
      "metadata": {
        "colab": {
          "base_uri": "https://localhost:8080/"
        },
        "id": "kJsOXihmuErT",
        "outputId": "f68a07d9-ef6a-4ed7-ff55-fdee53708a6a"
      },
      "execution_count": null,
      "outputs": [
        {
          "output_type": "stream",
          "name": "stdout",
          "text": [
            "torch.Size([1, 20])\n",
            "torch.Size([1])\n"
          ]
        },
        {
          "output_type": "execute_result",
          "data": {
            "text/plain": [
              "torch.Size([1, 19])"
            ]
          },
          "metadata": {},
          "execution_count": 140
        }
      ]
    },
    {
      "cell_type": "code",
      "source": [
        "dataset[0]['x_data']\n",
        "x_in = torch.LongTensor(dataset[0]['x_data']).unsqueeze(0)\n",
        "out_emb = classifier.emb(x_in)\n",
        "out_emb.shape"
      ],
      "metadata": {
        "colab": {
          "base_uri": "https://localhost:8080/"
        },
        "id": "OXav6I9ZuIyN",
        "outputId": "b3ae73f7-0a32-437f-c13a-d8bac8532582"
      },
      "execution_count": null,
      "outputs": [
        {
          "output_type": "execute_result",
          "data": {
            "text/plain": [
              "torch.Size([1, 20, 200])"
            ]
          },
          "metadata": {},
          "execution_count": 141
        }
      ]
    },
    {
      "cell_type": "code",
      "source": [
        "out_rnn = classifier.rnn(out_emb)\n",
        "out_rnn.shape"
      ],
      "metadata": {
        "colab": {
          "base_uri": "https://localhost:8080/"
        },
        "id": "UZfxWAROuLZl",
        "outputId": "b27767a6-19c7-4456-aa2b-b8c3dcdff1de"
      },
      "execution_count": null,
      "outputs": [
        {
          "output_type": "execute_result",
          "data": {
            "text/plain": [
              "torch.Size([1, 20, 900])"
            ]
          },
          "metadata": {},
          "execution_count": 142
        }
      ]
    },
    {
      "cell_type": "code",
      "source": [
        "out_fc1 = F.relu(classifier.fc1(F.dropout(out_rnn, 0.5)))\n",
        "out_fc1.shape"
      ],
      "metadata": {
        "colab": {
          "base_uri": "https://localhost:8080/"
        },
        "id": "fVxC9jPUuP0Y",
        "outputId": "adf89d6b-a0a3-4402-ceb5-307335291df8"
      },
      "execution_count": null,
      "outputs": [
        {
          "output_type": "execute_result",
          "data": {
            "text/plain": [
              "torch.Size([1, 20, 900])"
            ]
          },
          "metadata": {},
          "execution_count": 143
        }
      ]
    },
    {
      "cell_type": "code",
      "source": [
        "out_fc2 = classifier.fc2(F.dropout(out_fc1, 0.5))\n",
        "out_fc2.shape"
      ],
      "metadata": {
        "colab": {
          "base_uri": "https://localhost:8080/"
        },
        "id": "zAqFjXDouVsC",
        "outputId": "3f22ed0e-e1dd-4d92-8368-51e542f371e0"
      },
      "execution_count": null,
      "outputs": [
        {
          "output_type": "execute_result",
          "data": {
            "text/plain": [
              "torch.Size([1, 20, 19])"
            ]
          },
          "metadata": {},
          "execution_count": 144
        }
      ]
    },
    {
      "cell_type": "code",
      "source": [
        "F.softmax(out_fc2, dim=1).shape"
      ],
      "metadata": {
        "colab": {
          "base_uri": "https://localhost:8080/"
        },
        "id": "RUKBe6QWuYH2",
        "outputId": "01d6e726-90ee-4c55-af88-9ddaa5916458"
      },
      "execution_count": null,
      "outputs": [
        {
          "output_type": "execute_result",
          "data": {
            "text/plain": [
              "torch.Size([1, 20, 19])"
            ]
          },
          "metadata": {},
          "execution_count": 145
        }
      ]
    },
    {
      "cell_type": "markdown",
      "source": [
        "## Training Routine\n",
        "\n",
        "The training routine follows the standard formula. For a single batch of data, apply the model and compute the prediction vectors. Use the `CrossEntropyLoss()` loss function and the ground truth to compute a loss value. Using the loss value and an optimizer, compute the gradients and update the weights of the model using those gradients. Repeat this for each batch in the training data. Proceed similarly with the validation data, but set the model in eval mode so as to prevent backpropagating. Instead, the validation data is used only to give a less­biased sense of how the model is performing. Repeat this routine for a specific number of epochs or a stopping condition (e.g. loss is less than a threshold, or loss stoped changing in the most recent two epochs) is met."
      ],
      "metadata": {
        "id": "Igrj4FIhqZ_u"
      }
    },
    {
      "cell_type": "code",
      "execution_count": null,
      "source": [
        "def make_train_state(args):\n",
        "    return {'stop_early': False,\n",
        "            'early_stopping_step': 0,\n",
        "            'early_stopping_best_val': 1e8,\n",
        "            'learning_rate': args.learning_rate,\n",
        "            'epoch_index': 0,\n",
        "            'train_loss': [],\n",
        "            'train_acc': [],\n",
        "            'val_loss': [],\n",
        "            'val_acc': [],\n",
        "            'test_loss': -1,\n",
        "            'test_acc': -1,\n",
        "            'model_filename': args.model_state_file}\n",
        "\n",
        "\n",
        "def update_train_state(args, model, train_state):\n",
        "    \"\"\"Handle the training state updates.\n",
        "\n",
        "    Components:\n",
        "     - Early Stopping: Prevent overfitting.\n",
        "     - Model Checkpoint: Model is saved if the model is better\n",
        "\n",
        "    :param args: main arguments\n",
        "    :param model: model to train\n",
        "    :param train_state: a dictionary representing the training state values\n",
        "    :returns:\n",
        "        a new train_state\n",
        "    \"\"\"\n",
        "\n",
        "    # Save one model at least\n",
        "    if train_state['epoch_index'] == 0:\n",
        "        torch.save(model.state_dict(), train_state['model_filename'])\n",
        "        train_state['stop_early'] = False\n",
        "\n",
        "    # Save model if performance improved\n",
        "    elif train_state['epoch_index'] >= 1:\n",
        "        loss_tm1, loss_t = train_state['val_loss'][-2:]\n",
        "\n",
        "        # If loss worsened\n",
        "        if loss_t >= loss_tm1:\n",
        "            # Update step\n",
        "            train_state['early_stopping_step'] += 1\n",
        "        # Loss decreased\n",
        "        else:\n",
        "            # Save the best model\n",
        "            if loss_t < train_state['early_stopping_best_val']:\n",
        "                torch.save(model.state_dict(), train_state['model_filename'])\n",
        "                train_state['early_stopping_best_val'] = loss_t\n",
        "\n",
        "            # Reset early stopping step\n",
        "            train_state['early_stopping_step'] = 0\n",
        "\n",
        "        # Stop early ?\n",
        "        train_state['stop_early'] = \\\n",
        "            train_state['early_stopping_step'] >= args.early_stopping_criteria\n",
        "\n",
        "    return train_state\n",
        "\n",
        "\n",
        "def compute_accuracy(y_pred, y_target):\n",
        "    _, y_pred_indices = y_pred.max(dim=1)\n",
        "    n_correct = torch.eq(y_pred_indices, y_target).sum().item()\n",
        "    return n_correct / len(y_pred_indices) * 100"
      ],
      "outputs": [],
      "metadata": {
        "code_folding": [],
        "id": "VU5yhc0wqZ_v"
      }
    },
    {
      "cell_type": "markdown",
      "source": [
        "โค้ดนี้เป็นส่วนหนึ่งของการทำงานในกระบวนการฝึกโมเดล (training loop) และการตรวจสอบประสิทธิภาพของโมเดลในช่วงการฝึก มีฟังก์ชันหลาย ๆ ฟังก์ชันที่ทำหน้าที่ต่าง ๆ ดังนี้:\n",
        "\n",
        "1. make_train_state(args): ฟังก์ชันนี้ใช้สร้าง dictionary เริ่มต้นที่จะใช้เก็บสถานะของการฝึกโมเดล โดยกำหนดค่าเริ่มต้นที่สำคัญ เช่น stop_early เป็น False, early_stopping_step เป็น 0, early_stopping_best_val เป็น infinity, learning_rate เป็นค่าที่กำหนดใน args.learning_rate, epoch_index เริ่มต้นที่ 0, และกำหนด list ว่างสำหรับเก็บค่า loss และ accuracy ของ training และ validation.\n",
        "\n",
        "2. update_train_state(args, model, train_state): ฟังก์ชันนี้ใช้ปรับปรุงสถานะการฝึกโมเดลตามความคืบหน้าของการฝึก โดยรับเข้ามาตัวแปร args สำหรับการตั้งค่าหลัก, model ที่กำลังถูกฝึก, และ train_state ที่เก็บสถานะของการฝึกโมเดล. ฟังก์ชันนี้ทำหลายงาน ได้แก่:\n",
        " - บันทึกโมเดลไว้เป็น checkpoint ที่ epoch แรก.\n",
        " - บันทึกโมเดลที่ดีที่สุดถ้ามีประสิทธิภาพดีกว่าของ checkpoint ก่อนหน้า.\n",
        " - ทำการ early stopping หากไม่มีการปรับปรุงประสิทธิภาพ (ลด loss) ใน args.early_stopping_criteria epochs ล่าสุด.\n",
        "3. compute_accuracy(y_pred, y_target): ฟังก์ชันนี้ใช้คำนวณความแม่นยำของโมเดล โดยรับค่า y_pred ที่เป็นผลลัพธ์ที่โมเดลทำนายและ y_target ที่เป็นคำตอบที่ถูกต้อง. ความแม่นยำถูกนับและคืนค่าเป็นเปอร์เซ็นต์ของตัวอย่างที่ถูกต้อง."
      ],
      "metadata": {
        "id": "VcLn_TlyAt0n"
      }
    },
    {
      "cell_type": "code",
      "source": [
        "from torch.nn.utils.rnn import pack_padded_sequence, pad_packed_sequence\n",
        "\n",
        "# ...\n",
        "\n",
        "# Define the classifier, optimizer, loss function, and scheduler\n",
        "classifier = classifier.to(args.device)\n",
        "dataset.class_weights = dataset.class_weights.to(args.device)\n",
        "\n",
        "loss_func = nn.CrossEntropyLoss(dataset.class_weights)\n",
        "optimizer = optim.Adam(classifier.parameters(), lr=args.learning_rate)\n",
        "scheduler = optim.lr_scheduler.ReduceLROnPlateau(optimizer=optimizer,\n",
        "                                                  mode='min', factor=0.5,\n",
        "                                                  patience=1)\n",
        "\n",
        "# Initialize training state\n",
        "train_state = make_train_state(args)\n",
        "\n",
        "# Setup progress bars\n",
        "epoch_bar = tqdm(desc='training routine',\n",
        "                 total=args.num_epochs,\n",
        "                 position=0)\n",
        "\n",
        "dataset.set_split('train')\n",
        "train_bar = tqdm(desc='split=train',\n",
        "                 total=dataset.get_num_batches(args.batch_size),\n",
        "                 position=1,\n",
        "                 leave=True)\n",
        "\n",
        "dataset.set_split('val')\n",
        "val_bar = tqdm(desc='split=val',\n",
        "               total=dataset.get_num_batches(args.batch_size),\n",
        "               position=1,\n",
        "               leave=True)\n",
        "\n",
        "try:\n",
        "    # Training loop\n",
        "    for epoch_index in range(args.num_epochs):\n",
        "        train_state['epoch_index'] = epoch_index\n",
        "\n",
        "        # Training phase\n",
        "        dataset.set_split('train')\n",
        "        batch_generator = generate_batches(dataset, batch_size=args.batch_size, device=args.device)\n",
        "        running_loss = 0.0\n",
        "        running_acc = 0.0\n",
        "        classifier.train()\n",
        "\n",
        "        for batch_index, batch_dict in enumerate(batch_generator):\n",
        "            optimizer.zero_grad()\n",
        "\n",
        "            # Forward pass\n",
        "            y_pred = classifier(x_in=batch_dict['x_data'], x_lengths=batch_dict['x_length'])\n",
        "\n",
        "            # Compute loss\n",
        "            loss = loss_func(y_pred, batch_dict['y_target'])\n",
        "            running_loss += (loss.item() - running_loss) / (batch_index + 1)\n",
        "\n",
        "            # Backward pass\n",
        "            loss.backward()\n",
        "            optimizer.step()\n",
        "\n",
        "            # Compute accuracy\n",
        "            acc_t = compute_accuracy(y_pred, batch_dict['y_target'])\n",
        "            running_acc += (acc_t - running_acc) / (batch_index + 1)\n",
        "\n",
        "            train_bar.set_postfix(loss=running_loss, acc=running_acc, epoch=epoch_index)\n",
        "            train_bar.update()\n",
        "\n",
        "        train_state['train_loss'].append(running_loss)\n",
        "        train_state['train_acc'].append(running_acc)\n",
        "\n",
        "        # Validation phase\n",
        "        dataset.set_split('val')\n",
        "        batch_generator = generate_batches(dataset, batch_size=args.batch_size, device=args.device)\n",
        "        running_loss = 0.0\n",
        "        running_acc = 0.0\n",
        "        classifier.eval()\n",
        "\n",
        "        with torch.no_grad():\n",
        "            for batch_index, batch_dict in enumerate(batch_generator):\n",
        "                y_pred = classifier(x_in=batch_dict['x_data'], x_lengths=batch_dict['x_length'])\n",
        "\n",
        "                # Compute loss\n",
        "                loss = loss_func(y_pred, batch_dict['y_target'])\n",
        "                running_loss += (loss.item() - running_loss) / (batch_index + 1)\n",
        "\n",
        "                # Compute accuracy\n",
        "                acc_t = compute_accuracy(y_pred, batch_dict['y_target'])\n",
        "                running_acc += (acc_t - running_acc) / (batch_index + 1)\n",
        "\n",
        "                val_bar.set_postfix(loss=running_loss, acc=running_acc, epoch=epoch_index)\n",
        "                val_bar.update()\n",
        "\n",
        "        train_state['val_loss'].append(running_loss)\n",
        "        train_state['val_acc'].append(running_acc)\n",
        "\n",
        "        # Update training state\n",
        "        train_state = update_train_state(args=args, model=classifier, train_state=train_state)\n",
        "\n",
        "        # Adjust learning rate based on validation loss\n",
        "        scheduler.step(train_state['val_loss'][-1])\n",
        "\n",
        "        # Update progress bars\n",
        "        train_bar.n = 0\n",
        "        val_bar.n = 0\n",
        "        epoch_bar.update()\n",
        "\n",
        "        # Check for early stopping\n",
        "        if train_state['stop_early']:\n",
        "            break\n",
        "\n",
        "except KeyboardInterrupt:\n",
        "    print(\"Exiting loop\")\n",
        "\n",
        "# Save the trained model\n",
        "torch.save(classifier.state_dict(), 'classifier_checkpoint.pth')"
      ],
      "metadata": {
        "colab": {
          "base_uri": "https://localhost:8080/",
          "height": 113,
          "referenced_widgets": [
            "400f6ac9f11544a9b89494bfc82ac7cc",
            "b621efa889fd4e81894a024fdc894d5d",
            "5d32f6609667469c84c82cd031285ab4",
            "a866482797134527a8c6ed749c0771f8",
            "6f3e73356c71488298c1cd4fadb862ce",
            "979a40957a53450596fe2de3b4579428",
            "1429cfc69c1b46e884fe2ec826164bb0",
            "15b1d02cf1464f91aa7b30a7dab06f9b",
            "13aa1b8903174e80b43ed5ceca76684c",
            "b27030d68c184c0ba4d4e85b2ec90b71",
            "b3705bdea99f4d18ad09ff6091294570",
            "40194c1362d448a191d3849a1e0ca3ac",
            "78d716ff9223420c854513dc77d43e01",
            "742a63da3d5849feb7e47483e04bf75e",
            "9cc254b4a2404c2a9d26bd190abcec14",
            "05fecec1bde34d24a16e0fbb7fda3b7d",
            "b85e54e8177a40e29d6daee21e7fd559",
            "96cb2fc7eb1b4cf9ae9d66a3b24da644",
            "dcfe66a056a1481e93b4d249ba811d8b",
            "43ab98c093534165bdf71f02295a0771",
            "54c9f05bc71d4ab39fc48eab0bfd29f6",
            "651773ca88f44a58b717f4a278621c81",
            "4b0283e7437a41529300f38e65b6c8c2",
            "5e6393afca6d44e393b8d15de5051d38",
            "11b87722b0b24ed2afb6c640185924d0",
            "56203cdbdc01413abe7b1ba08141693f",
            "8071a4965699407d8da4d9bda99b1b66",
            "a88a7d65fb354e98b53cfa0be60ba892",
            "8fa04c190123405d964661f6ac9abcb6",
            "213eecabe33e48998d8290972cc49b63",
            "09f5e1cdf90f45f8973fd58115b160c3",
            "0d1f8ab2980345bdbb74dfce18e6c5c6",
            "5536d3948992407493773e4e220f84cc"
          ]
        },
        "id": "drwa4Ynk23IL",
        "outputId": "d93d4ebb-aa4d-4458-82f3-001218231489"
      },
      "execution_count": null,
      "outputs": [
        {
          "output_type": "display_data",
          "data": {
            "text/plain": [
              "training routine:   0%|          | 0/30 [00:00<?, ?it/s]"
            ],
            "application/vnd.jupyter.widget-view+json": {
              "version_major": 2,
              "version_minor": 0,
              "model_id": "400f6ac9f11544a9b89494bfc82ac7cc"
            }
          },
          "metadata": {}
        },
        {
          "output_type": "display_data",
          "data": {
            "text/plain": [
              "split=train:   0%|          | 0/121 [00:00<?, ?it/s]"
            ],
            "application/vnd.jupyter.widget-view+json": {
              "version_major": 2,
              "version_minor": 0,
              "model_id": "40194c1362d448a191d3849a1e0ca3ac"
            }
          },
          "metadata": {}
        },
        {
          "output_type": "display_data",
          "data": {
            "text/plain": [
              "split=val:   0%|          | 0/25 [00:00<?, ?it/s]"
            ],
            "application/vnd.jupyter.widget-view+json": {
              "version_major": 2,
              "version_minor": 0,
              "model_id": "4b0283e7437a41529300f38e65b6c8c2"
            }
          },
          "metadata": {}
        }
      ]
    },
    {
      "cell_type": "markdown",
      "source": [
        "โค้ดนี้เป็นส่วนหลักของกระบวนการฝึกโมเดล (training loop) และการตรวจสอบประสิทธิภาพของโมเดลในช่วงการฝึกโดยใช้ PyTorch โดยทำหน้าที่ต่าง ๆ ดังนี้:\n",
        "\n",
        "- classifier = classifier.to(args.device): เปลี่ยนโมเดลและพารามิเตอร์ของโมเดลเพื่อให้ทำงานบน GPU (หากใช้ CUDA) หรือ CPU (หากไม่ใช้ CUDA) ตาม args.device.\n",
        "\n",
        "- dataset.class_weights = dataset.class_weights.to(args.device): เปลี่ยน class weights ของ dataset เพื่อให้ทำงานบน GPU (หากใช้ CUDA) หรือ CPU (หากไม่ใช้ CUDA) ตาม args.device.\n",
        "\n",
        "- loss_func = nn.CrossEntropyLoss(dataset.class_weights): กำหนด loss function ในรูปแบบ Cross Entropy Loss และใช้ class weights ที่ถูกกำหนดไว้ใน dataset.\n",
        "\n",
        "- optimizer = optim.Adam(classifier.parameters(), lr=args.learning_rate): กำหนด optimizer ในรูปแบบ Adam สำหรับการปรับปรุงพารามิเตอร์ของโมเดล โดยใช้ learning rate จาก args.learning_rate.\n",
        "\n",
        "- scheduler = optim.lr_scheduler.ReduceLROnPlateau(optimizer=optimizer, mode='min', factor=0.5, patience=1): กำหนด learning rate scheduler ในรูปแบบ ReduceLROnPlateau ซึ่งจะลด learning rate ทุกรอบที่ validation loss ไม่ลดลง (mode='min') ด้วย factor=0.5 และ patience=1.\n",
        "\n",
        "- train_state = make_train_state(args): สร้าง dictionary เริ่มต้นสำหรับเก็บสถานะของการฝึกโมเดลโดยใช้ฟังก์ชัน make_train_state ที่กำหนดค่าเริ่มต้นของสถานะ.\n",
        "\n",
        "- epoch_bar = tqdm(...), train_bar = tqdm(...), val_bar = tqdm(...): กำหนด progress bars สำหรับแสดงความคืบหน้าในการฝึกโมเดล.\n",
        "\n",
        "ลูปฝึกโมเดล:\n",
        "\n",
        "  - ในลูปนี้มีการตั้งค่าต่าง ๆ เช่นตัวแปร train_state['epoch_index'], dataset.set_split(), batch_generator, running_loss, และ running_acc.\n",
        "  - ลูปฝึกโมเดลและปรับปรุงพารามิเตอร์โดยใช้ backpropagation.\n",
        "  - คำนวณค่า loss และ accuracy ของชุดข้อมูลฝึก\n",
        "  - แสดงความคืบหน้าของการฝึกโมเดลผ่าน progress bar.\n",
        "\n",
        "ลูปทำการทดสอบบนชุดข้อมูล validation:\n",
        "\n",
        "  - ในลูปนี้มีการตั้งค่าต่าง ๆ เช่นตัวแปร dataset.set_split(), batch_generator, running_loss, และ running_acc.\n",
        "  - คำนวณค่า loss และ accuracy ของชุดข้อมูล validation.\n",
        "  - แสดงความคืบหน้าของการทดสอบ validation ผ่าน progress bar.\n",
        "  - train_state = update_train_state(...): ปรับปรุงสถานะการฝึกโมเดลบันทึกโมเดลที่ดีที่สุด, และทำ early stopping หากไม่มีการปรับปรุงตามเงื่อนไขที่กำหนด.\n",
        "\n",
        "- scheduler.step(train_state['val_loss'][-1]): ปรับ learning rate ตามค่า validation loss ล่าสุด.\n",
        "\n",
        "- ปรับค่า progress bar และบันทึกค่าสถานะทั้งหมด.\n",
        "\n",
        "หลุดจากลูปฝึกโมเดลหากมีการกด Ctrl+C จากคีย์บอร์ด."
      ],
      "metadata": {
        "id": "jYnxazTOBNxy"
      }
    },
    {
      "cell_type": "code",
      "execution_count": null,
      "source": [
        "# compute the loss & accuracy on the test set using the best available model\n",
        "\n",
        "classifier.load_state_dict(torch.load(train_state['model_filename']))\n",
        "\n",
        "classifier = classifier.to(args.device)\n",
        "dataset.class_weights = dataset.class_weights.to(args.device)\n",
        "loss_func = nn.CrossEntropyLoss(dataset.class_weights)\n",
        "\n",
        "dataset.set_split('test')\n",
        "batch_generator = generate_batches(dataset,\n",
        "                                   batch_size=args.batch_size,\n",
        "                                   device=args.device)\n",
        "running_loss = 0.\n",
        "running_acc = 0.\n",
        "classifier.eval()\n",
        "\n",
        "for batch_index, batch_dict in enumerate(batch_generator):\n",
        "    # compute the output\n",
        "    y_pred =  classifier(batch_dict['x_data'],\n",
        "                         x_lengths=batch_dict['x_length'])\n",
        "\n",
        "    # compute the loss\n",
        "    loss = loss_func(y_pred, batch_dict['y_target'])\n",
        "    loss_t = loss.item()\n",
        "    running_loss += (loss_t - running_loss) / (batch_index + 1)\n",
        "\n",
        "    # compute the accuracy\n",
        "    acc_t = compute_accuracy(y_pred, batch_dict['y_target'])\n",
        "    running_acc += (acc_t - running_acc) / (batch_index + 1)\n",
        "\n",
        "train_state['test_loss'] = running_loss\n",
        "train_state['test_acc'] = running_acc"
      ],
      "outputs": [],
      "metadata": {
        "id": "LH4OWQPkqZ_w"
      }
    },
    {
      "cell_type": "code",
      "execution_count": null,
      "source": [
        "print(\"Test loss: {};\".format(train_state['test_loss']))\n",
        "print(\"Test Accuracy: {}\".format(train_state['test_acc']))"
      ],
      "outputs": [
        {
          "output_type": "stream",
          "name": "stdout",
          "text": [
            "Test loss: 1.456196395250467;\n",
            "Test Accuracy: 58.413461538461554\n"
          ]
        }
      ],
      "metadata": {
        "colab": {
          "base_uri": "https://localhost:8080/"
        },
        "id": "aauQlo_DqZ_x",
        "outputId": "2ca04982-8e11-4e50-b7e5-170302f4f18b"
      }
    },
    {
      "cell_type": "markdown",
      "source": [
        "### Inference"
      ],
      "metadata": {
        "id": "tO1WbaVYqZ_x"
      }
    },
    {
      "cell_type": "code",
      "execution_count": null,
      "source": [
        "def predict_nationality(surname, classifier, vectorizer):\n",
        "    vectorized_surname, vec_length = vectorizer.vectorize(surname)\n",
        "    vectorized_surname = torch.tensor(vectorized_surname).unsqueeze(dim=0)\n",
        "    vec_length = torch.tensor([vec_length], dtype=torch.int64)\n",
        "\n",
        "    result = classifier(vectorized_surname, vec_length, apply_softmax=True)\n",
        "    probability_values, indices = result.max(dim=1)\n",
        "\n",
        "    index = indices.item()\n",
        "    prob_value = probability_values.item()\n",
        "\n",
        "    predicted_nationality = vectorizer.nationality_vocab.lookup_index(index)\n",
        "\n",
        "    return {'nationality': predicted_nationality, 'probability': prob_value, 'surname': surname}"
      ],
      "outputs": [],
      "metadata": {
        "id": "NzalNjoAqZ_y"
      }
    },
    {
      "cell_type": "code",
      "execution_count": null,
      "source": [
        "# surname = input(\"Enter a surname: \")\n",
        "classifier = classifier.to(\"cpu\")\n",
        "for surname in ['Rueksen', 'Koonvisal']:\n",
        "    print(predict_nationality(surname, classifier, vectorizer))"
      ],
      "outputs": [
        {
          "output_type": "stream",
          "name": "stdout",
          "text": [
            "{'nationality': 'Dutch', 'probability': 0.8372834324836731, 'surname': 'Rueksen'}\n",
            "{'nationality': 'Thai', 'probability': 0.7013441324234009, 'surname': 'Koonvisal'}\n"
          ]
        }
      ],
      "metadata": {
        "colab": {
          "base_uri": "https://localhost:8080/"
        },
        "id": "P3QKs7C-qZ_y",
        "outputId": "ba9ef09a-ed05-4002-c24e-8235c5d3d16b"
      }
    },
    {
      "cell_type": "markdown",
      "source": [
        "# Name : Sukanya Rueksen\n",
        "\n",
        "# ID : 66076045"
      ],
      "metadata": {
        "id": "UWVXO5PLB4vc"
      }
    }
  ],
  "metadata": {
    "kernelspec": {
      "name": "python3",
      "display_name": "Python 3.8.10 64-bit ('cits4012': conda)"
    },
    "language_info": {
      "codemirror_mode": {
        "name": "ipython",
        "version": 3
      },
      "file_extension": ".py",
      "mimetype": "text/x-python",
      "name": "python",
      "nbconvert_exporter": "python",
      "pygments_lexer": "ipython3",
      "version": "3.8.10"
    },
    "toc": {
      "colors": {
        "hover_highlight": "#DAA520",
        "running_highlight": "#FF0000",
        "selected_highlight": "#FFD700"
      },
      "moveMenuLeft": true,
      "nav_menu": {
        "height": "120px",
        "width": "252px"
      },
      "navigate_menu": true,
      "number_sections": true,
      "sideBar": true,
      "threshold": "5",
      "toc_cell": false,
      "toc_section_display": "block",
      "toc_window_display": false
    },
    "interpreter": {
      "hash": "d990147e05fc0cc60dd3871899a6233eb6a5324c1885ded43d013dc915f7e535"
    },
    "colab": {
      "provenance": []
    },
    "widgets": {
      "application/vnd.jupyter.widget-state+json": {
        "400f6ac9f11544a9b89494bfc82ac7cc": {
          "model_module": "@jupyter-widgets/controls",
          "model_name": "HBoxModel",
          "model_module_version": "1.5.0",
          "state": {
            "_dom_classes": [],
            "_model_module": "@jupyter-widgets/controls",
            "_model_module_version": "1.5.0",
            "_model_name": "HBoxModel",
            "_view_count": null,
            "_view_module": "@jupyter-widgets/controls",
            "_view_module_version": "1.5.0",
            "_view_name": "HBoxView",
            "box_style": "",
            "children": [
              "IPY_MODEL_b621efa889fd4e81894a024fdc894d5d",
              "IPY_MODEL_5d32f6609667469c84c82cd031285ab4",
              "IPY_MODEL_a866482797134527a8c6ed749c0771f8"
            ],
            "layout": "IPY_MODEL_6f3e73356c71488298c1cd4fadb862ce"
          }
        },
        "b621efa889fd4e81894a024fdc894d5d": {
          "model_module": "@jupyter-widgets/controls",
          "model_name": "HTMLModel",
          "model_module_version": "1.5.0",
          "state": {
            "_dom_classes": [],
            "_model_module": "@jupyter-widgets/controls",
            "_model_module_version": "1.5.0",
            "_model_name": "HTMLModel",
            "_view_count": null,
            "_view_module": "@jupyter-widgets/controls",
            "_view_module_version": "1.5.0",
            "_view_name": "HTMLView",
            "description": "",
            "description_tooltip": null,
            "layout": "IPY_MODEL_979a40957a53450596fe2de3b4579428",
            "placeholder": "​",
            "style": "IPY_MODEL_1429cfc69c1b46e884fe2ec826164bb0",
            "value": "training routine: 100%"
          }
        },
        "5d32f6609667469c84c82cd031285ab4": {
          "model_module": "@jupyter-widgets/controls",
          "model_name": "FloatProgressModel",
          "model_module_version": "1.5.0",
          "state": {
            "_dom_classes": [],
            "_model_module": "@jupyter-widgets/controls",
            "_model_module_version": "1.5.0",
            "_model_name": "FloatProgressModel",
            "_view_count": null,
            "_view_module": "@jupyter-widgets/controls",
            "_view_module_version": "1.5.0",
            "_view_name": "ProgressView",
            "bar_style": "",
            "description": "",
            "description_tooltip": null,
            "layout": "IPY_MODEL_15b1d02cf1464f91aa7b30a7dab06f9b",
            "max": 30,
            "min": 0,
            "orientation": "horizontal",
            "style": "IPY_MODEL_13aa1b8903174e80b43ed5ceca76684c",
            "value": 30
          }
        },
        "a866482797134527a8c6ed749c0771f8": {
          "model_module": "@jupyter-widgets/controls",
          "model_name": "HTMLModel",
          "model_module_version": "1.5.0",
          "state": {
            "_dom_classes": [],
            "_model_module": "@jupyter-widgets/controls",
            "_model_module_version": "1.5.0",
            "_model_name": "HTMLModel",
            "_view_count": null,
            "_view_module": "@jupyter-widgets/controls",
            "_view_module_version": "1.5.0",
            "_view_name": "HTMLView",
            "description": "",
            "description_tooltip": null,
            "layout": "IPY_MODEL_b27030d68c184c0ba4d4e85b2ec90b71",
            "placeholder": "​",
            "style": "IPY_MODEL_b3705bdea99f4d18ad09ff6091294570",
            "value": " 30/30 [18:22&lt;00:00, 36.65s/it]"
          }
        },
        "6f3e73356c71488298c1cd4fadb862ce": {
          "model_module": "@jupyter-widgets/base",
          "model_name": "LayoutModel",
          "model_module_version": "1.2.0",
          "state": {
            "_model_module": "@jupyter-widgets/base",
            "_model_module_version": "1.2.0",
            "_model_name": "LayoutModel",
            "_view_count": null,
            "_view_module": "@jupyter-widgets/base",
            "_view_module_version": "1.2.0",
            "_view_name": "LayoutView",
            "align_content": null,
            "align_items": null,
            "align_self": null,
            "border": null,
            "bottom": null,
            "display": null,
            "flex": null,
            "flex_flow": null,
            "grid_area": null,
            "grid_auto_columns": null,
            "grid_auto_flow": null,
            "grid_auto_rows": null,
            "grid_column": null,
            "grid_gap": null,
            "grid_row": null,
            "grid_template_areas": null,
            "grid_template_columns": null,
            "grid_template_rows": null,
            "height": null,
            "justify_content": null,
            "justify_items": null,
            "left": null,
            "margin": null,
            "max_height": null,
            "max_width": null,
            "min_height": null,
            "min_width": null,
            "object_fit": null,
            "object_position": null,
            "order": null,
            "overflow": null,
            "overflow_x": null,
            "overflow_y": null,
            "padding": null,
            "right": null,
            "top": null,
            "visibility": null,
            "width": null
          }
        },
        "979a40957a53450596fe2de3b4579428": {
          "model_module": "@jupyter-widgets/base",
          "model_name": "LayoutModel",
          "model_module_version": "1.2.0",
          "state": {
            "_model_module": "@jupyter-widgets/base",
            "_model_module_version": "1.2.0",
            "_model_name": "LayoutModel",
            "_view_count": null,
            "_view_module": "@jupyter-widgets/base",
            "_view_module_version": "1.2.0",
            "_view_name": "LayoutView",
            "align_content": null,
            "align_items": null,
            "align_self": null,
            "border": null,
            "bottom": null,
            "display": null,
            "flex": null,
            "flex_flow": null,
            "grid_area": null,
            "grid_auto_columns": null,
            "grid_auto_flow": null,
            "grid_auto_rows": null,
            "grid_column": null,
            "grid_gap": null,
            "grid_row": null,
            "grid_template_areas": null,
            "grid_template_columns": null,
            "grid_template_rows": null,
            "height": null,
            "justify_content": null,
            "justify_items": null,
            "left": null,
            "margin": null,
            "max_height": null,
            "max_width": null,
            "min_height": null,
            "min_width": null,
            "object_fit": null,
            "object_position": null,
            "order": null,
            "overflow": null,
            "overflow_x": null,
            "overflow_y": null,
            "padding": null,
            "right": null,
            "top": null,
            "visibility": null,
            "width": null
          }
        },
        "1429cfc69c1b46e884fe2ec826164bb0": {
          "model_module": "@jupyter-widgets/controls",
          "model_name": "DescriptionStyleModel",
          "model_module_version": "1.5.0",
          "state": {
            "_model_module": "@jupyter-widgets/controls",
            "_model_module_version": "1.5.0",
            "_model_name": "DescriptionStyleModel",
            "_view_count": null,
            "_view_module": "@jupyter-widgets/base",
            "_view_module_version": "1.2.0",
            "_view_name": "StyleView",
            "description_width": ""
          }
        },
        "15b1d02cf1464f91aa7b30a7dab06f9b": {
          "model_module": "@jupyter-widgets/base",
          "model_name": "LayoutModel",
          "model_module_version": "1.2.0",
          "state": {
            "_model_module": "@jupyter-widgets/base",
            "_model_module_version": "1.2.0",
            "_model_name": "LayoutModel",
            "_view_count": null,
            "_view_module": "@jupyter-widgets/base",
            "_view_module_version": "1.2.0",
            "_view_name": "LayoutView",
            "align_content": null,
            "align_items": null,
            "align_self": null,
            "border": null,
            "bottom": null,
            "display": null,
            "flex": null,
            "flex_flow": null,
            "grid_area": null,
            "grid_auto_columns": null,
            "grid_auto_flow": null,
            "grid_auto_rows": null,
            "grid_column": null,
            "grid_gap": null,
            "grid_row": null,
            "grid_template_areas": null,
            "grid_template_columns": null,
            "grid_template_rows": null,
            "height": null,
            "justify_content": null,
            "justify_items": null,
            "left": null,
            "margin": null,
            "max_height": null,
            "max_width": null,
            "min_height": null,
            "min_width": null,
            "object_fit": null,
            "object_position": null,
            "order": null,
            "overflow": null,
            "overflow_x": null,
            "overflow_y": null,
            "padding": null,
            "right": null,
            "top": null,
            "visibility": null,
            "width": null
          }
        },
        "13aa1b8903174e80b43ed5ceca76684c": {
          "model_module": "@jupyter-widgets/controls",
          "model_name": "ProgressStyleModel",
          "model_module_version": "1.5.0",
          "state": {
            "_model_module": "@jupyter-widgets/controls",
            "_model_module_version": "1.5.0",
            "_model_name": "ProgressStyleModel",
            "_view_count": null,
            "_view_module": "@jupyter-widgets/base",
            "_view_module_version": "1.2.0",
            "_view_name": "StyleView",
            "bar_color": null,
            "description_width": ""
          }
        },
        "b27030d68c184c0ba4d4e85b2ec90b71": {
          "model_module": "@jupyter-widgets/base",
          "model_name": "LayoutModel",
          "model_module_version": "1.2.0",
          "state": {
            "_model_module": "@jupyter-widgets/base",
            "_model_module_version": "1.2.0",
            "_model_name": "LayoutModel",
            "_view_count": null,
            "_view_module": "@jupyter-widgets/base",
            "_view_module_version": "1.2.0",
            "_view_name": "LayoutView",
            "align_content": null,
            "align_items": null,
            "align_self": null,
            "border": null,
            "bottom": null,
            "display": null,
            "flex": null,
            "flex_flow": null,
            "grid_area": null,
            "grid_auto_columns": null,
            "grid_auto_flow": null,
            "grid_auto_rows": null,
            "grid_column": null,
            "grid_gap": null,
            "grid_row": null,
            "grid_template_areas": null,
            "grid_template_columns": null,
            "grid_template_rows": null,
            "height": null,
            "justify_content": null,
            "justify_items": null,
            "left": null,
            "margin": null,
            "max_height": null,
            "max_width": null,
            "min_height": null,
            "min_width": null,
            "object_fit": null,
            "object_position": null,
            "order": null,
            "overflow": null,
            "overflow_x": null,
            "overflow_y": null,
            "padding": null,
            "right": null,
            "top": null,
            "visibility": null,
            "width": null
          }
        },
        "b3705bdea99f4d18ad09ff6091294570": {
          "model_module": "@jupyter-widgets/controls",
          "model_name": "DescriptionStyleModel",
          "model_module_version": "1.5.0",
          "state": {
            "_model_module": "@jupyter-widgets/controls",
            "_model_module_version": "1.5.0",
            "_model_name": "DescriptionStyleModel",
            "_view_count": null,
            "_view_module": "@jupyter-widgets/base",
            "_view_module_version": "1.2.0",
            "_view_name": "StyleView",
            "description_width": ""
          }
        },
        "40194c1362d448a191d3849a1e0ca3ac": {
          "model_module": "@jupyter-widgets/controls",
          "model_name": "HBoxModel",
          "model_module_version": "1.5.0",
          "state": {
            "_dom_classes": [],
            "_model_module": "@jupyter-widgets/controls",
            "_model_module_version": "1.5.0",
            "_model_name": "HBoxModel",
            "_view_count": null,
            "_view_module": "@jupyter-widgets/controls",
            "_view_module_version": "1.5.0",
            "_view_name": "HBoxView",
            "box_style": "",
            "children": [
              "IPY_MODEL_78d716ff9223420c854513dc77d43e01",
              "IPY_MODEL_742a63da3d5849feb7e47483e04bf75e",
              "IPY_MODEL_9cc254b4a2404c2a9d26bd190abcec14"
            ],
            "layout": "IPY_MODEL_05fecec1bde34d24a16e0fbb7fda3b7d"
          }
        },
        "78d716ff9223420c854513dc77d43e01": {
          "model_module": "@jupyter-widgets/controls",
          "model_name": "HTMLModel",
          "model_module_version": "1.5.0",
          "state": {
            "_dom_classes": [],
            "_model_module": "@jupyter-widgets/controls",
            "_model_module_version": "1.5.0",
            "_model_name": "HTMLModel",
            "_view_count": null,
            "_view_module": "@jupyter-widgets/controls",
            "_view_module_version": "1.5.0",
            "_view_name": "HTMLView",
            "description": "",
            "description_tooltip": null,
            "layout": "IPY_MODEL_b85e54e8177a40e29d6daee21e7fd559",
            "placeholder": "​",
            "style": "IPY_MODEL_96cb2fc7eb1b4cf9ae9d66a3b24da644",
            "value": "split=train:  99%"
          }
        },
        "742a63da3d5849feb7e47483e04bf75e": {
          "model_module": "@jupyter-widgets/controls",
          "model_name": "FloatProgressModel",
          "model_module_version": "1.5.0",
          "state": {
            "_dom_classes": [],
            "_model_module": "@jupyter-widgets/controls",
            "_model_module_version": "1.5.0",
            "_model_name": "FloatProgressModel",
            "_view_count": null,
            "_view_module": "@jupyter-widgets/controls",
            "_view_module_version": "1.5.0",
            "_view_name": "ProgressView",
            "bar_style": "",
            "description": "",
            "description_tooltip": null,
            "layout": "IPY_MODEL_dcfe66a056a1481e93b4d249ba811d8b",
            "max": 121,
            "min": 0,
            "orientation": "horizontal",
            "style": "IPY_MODEL_43ab98c093534165bdf71f02295a0771",
            "value": 120
          }
        },
        "9cc254b4a2404c2a9d26bd190abcec14": {
          "model_module": "@jupyter-widgets/controls",
          "model_name": "HTMLModel",
          "model_module_version": "1.5.0",
          "state": {
            "_dom_classes": [],
            "_model_module": "@jupyter-widgets/controls",
            "_model_module_version": "1.5.0",
            "_model_name": "HTMLModel",
            "_view_count": null,
            "_view_module": "@jupyter-widgets/controls",
            "_view_module_version": "1.5.0",
            "_view_name": "HTMLView",
            "description": "",
            "description_tooltip": null,
            "layout": "IPY_MODEL_54c9f05bc71d4ab39fc48eab0bfd29f6",
            "placeholder": "​",
            "style": "IPY_MODEL_651773ca88f44a58b717f4a278621c81",
            "value": " 120/121 [18:19&lt;00:00,  2.79it/s, acc=75.9, epoch=29, loss=0.427]"
          }
        },
        "05fecec1bde34d24a16e0fbb7fda3b7d": {
          "model_module": "@jupyter-widgets/base",
          "model_name": "LayoutModel",
          "model_module_version": "1.2.0",
          "state": {
            "_model_module": "@jupyter-widgets/base",
            "_model_module_version": "1.2.0",
            "_model_name": "LayoutModel",
            "_view_count": null,
            "_view_module": "@jupyter-widgets/base",
            "_view_module_version": "1.2.0",
            "_view_name": "LayoutView",
            "align_content": null,
            "align_items": null,
            "align_self": null,
            "border": null,
            "bottom": null,
            "display": null,
            "flex": null,
            "flex_flow": null,
            "grid_area": null,
            "grid_auto_columns": null,
            "grid_auto_flow": null,
            "grid_auto_rows": null,
            "grid_column": null,
            "grid_gap": null,
            "grid_row": null,
            "grid_template_areas": null,
            "grid_template_columns": null,
            "grid_template_rows": null,
            "height": null,
            "justify_content": null,
            "justify_items": null,
            "left": null,
            "margin": null,
            "max_height": null,
            "max_width": null,
            "min_height": null,
            "min_width": null,
            "object_fit": null,
            "object_position": null,
            "order": null,
            "overflow": null,
            "overflow_x": null,
            "overflow_y": null,
            "padding": null,
            "right": null,
            "top": null,
            "visibility": null,
            "width": null
          }
        },
        "b85e54e8177a40e29d6daee21e7fd559": {
          "model_module": "@jupyter-widgets/base",
          "model_name": "LayoutModel",
          "model_module_version": "1.2.0",
          "state": {
            "_model_module": "@jupyter-widgets/base",
            "_model_module_version": "1.2.0",
            "_model_name": "LayoutModel",
            "_view_count": null,
            "_view_module": "@jupyter-widgets/base",
            "_view_module_version": "1.2.0",
            "_view_name": "LayoutView",
            "align_content": null,
            "align_items": null,
            "align_self": null,
            "border": null,
            "bottom": null,
            "display": null,
            "flex": null,
            "flex_flow": null,
            "grid_area": null,
            "grid_auto_columns": null,
            "grid_auto_flow": null,
            "grid_auto_rows": null,
            "grid_column": null,
            "grid_gap": null,
            "grid_row": null,
            "grid_template_areas": null,
            "grid_template_columns": null,
            "grid_template_rows": null,
            "height": null,
            "justify_content": null,
            "justify_items": null,
            "left": null,
            "margin": null,
            "max_height": null,
            "max_width": null,
            "min_height": null,
            "min_width": null,
            "object_fit": null,
            "object_position": null,
            "order": null,
            "overflow": null,
            "overflow_x": null,
            "overflow_y": null,
            "padding": null,
            "right": null,
            "top": null,
            "visibility": null,
            "width": null
          }
        },
        "96cb2fc7eb1b4cf9ae9d66a3b24da644": {
          "model_module": "@jupyter-widgets/controls",
          "model_name": "DescriptionStyleModel",
          "model_module_version": "1.5.0",
          "state": {
            "_model_module": "@jupyter-widgets/controls",
            "_model_module_version": "1.5.0",
            "_model_name": "DescriptionStyleModel",
            "_view_count": null,
            "_view_module": "@jupyter-widgets/base",
            "_view_module_version": "1.2.0",
            "_view_name": "StyleView",
            "description_width": ""
          }
        },
        "dcfe66a056a1481e93b4d249ba811d8b": {
          "model_module": "@jupyter-widgets/base",
          "model_name": "LayoutModel",
          "model_module_version": "1.2.0",
          "state": {
            "_model_module": "@jupyter-widgets/base",
            "_model_module_version": "1.2.0",
            "_model_name": "LayoutModel",
            "_view_count": null,
            "_view_module": "@jupyter-widgets/base",
            "_view_module_version": "1.2.0",
            "_view_name": "LayoutView",
            "align_content": null,
            "align_items": null,
            "align_self": null,
            "border": null,
            "bottom": null,
            "display": null,
            "flex": null,
            "flex_flow": null,
            "grid_area": null,
            "grid_auto_columns": null,
            "grid_auto_flow": null,
            "grid_auto_rows": null,
            "grid_column": null,
            "grid_gap": null,
            "grid_row": null,
            "grid_template_areas": null,
            "grid_template_columns": null,
            "grid_template_rows": null,
            "height": null,
            "justify_content": null,
            "justify_items": null,
            "left": null,
            "margin": null,
            "max_height": null,
            "max_width": null,
            "min_height": null,
            "min_width": null,
            "object_fit": null,
            "object_position": null,
            "order": null,
            "overflow": null,
            "overflow_x": null,
            "overflow_y": null,
            "padding": null,
            "right": null,
            "top": null,
            "visibility": null,
            "width": null
          }
        },
        "43ab98c093534165bdf71f02295a0771": {
          "model_module": "@jupyter-widgets/controls",
          "model_name": "ProgressStyleModel",
          "model_module_version": "1.5.0",
          "state": {
            "_model_module": "@jupyter-widgets/controls",
            "_model_module_version": "1.5.0",
            "_model_name": "ProgressStyleModel",
            "_view_count": null,
            "_view_module": "@jupyter-widgets/base",
            "_view_module_version": "1.2.0",
            "_view_name": "StyleView",
            "bar_color": null,
            "description_width": ""
          }
        },
        "54c9f05bc71d4ab39fc48eab0bfd29f6": {
          "model_module": "@jupyter-widgets/base",
          "model_name": "LayoutModel",
          "model_module_version": "1.2.0",
          "state": {
            "_model_module": "@jupyter-widgets/base",
            "_model_module_version": "1.2.0",
            "_model_name": "LayoutModel",
            "_view_count": null,
            "_view_module": "@jupyter-widgets/base",
            "_view_module_version": "1.2.0",
            "_view_name": "LayoutView",
            "align_content": null,
            "align_items": null,
            "align_self": null,
            "border": null,
            "bottom": null,
            "display": null,
            "flex": null,
            "flex_flow": null,
            "grid_area": null,
            "grid_auto_columns": null,
            "grid_auto_flow": null,
            "grid_auto_rows": null,
            "grid_column": null,
            "grid_gap": null,
            "grid_row": null,
            "grid_template_areas": null,
            "grid_template_columns": null,
            "grid_template_rows": null,
            "height": null,
            "justify_content": null,
            "justify_items": null,
            "left": null,
            "margin": null,
            "max_height": null,
            "max_width": null,
            "min_height": null,
            "min_width": null,
            "object_fit": null,
            "object_position": null,
            "order": null,
            "overflow": null,
            "overflow_x": null,
            "overflow_y": null,
            "padding": null,
            "right": null,
            "top": null,
            "visibility": null,
            "width": null
          }
        },
        "651773ca88f44a58b717f4a278621c81": {
          "model_module": "@jupyter-widgets/controls",
          "model_name": "DescriptionStyleModel",
          "model_module_version": "1.5.0",
          "state": {
            "_model_module": "@jupyter-widgets/controls",
            "_model_module_version": "1.5.0",
            "_model_name": "DescriptionStyleModel",
            "_view_count": null,
            "_view_module": "@jupyter-widgets/base",
            "_view_module_version": "1.2.0",
            "_view_name": "StyleView",
            "description_width": ""
          }
        },
        "4b0283e7437a41529300f38e65b6c8c2": {
          "model_module": "@jupyter-widgets/controls",
          "model_name": "HBoxModel",
          "model_module_version": "1.5.0",
          "state": {
            "_dom_classes": [],
            "_model_module": "@jupyter-widgets/controls",
            "_model_module_version": "1.5.0",
            "_model_name": "HBoxModel",
            "_view_count": null,
            "_view_module": "@jupyter-widgets/controls",
            "_view_module_version": "1.5.0",
            "_view_name": "HBoxView",
            "box_style": "",
            "children": [
              "IPY_MODEL_5e6393afca6d44e393b8d15de5051d38",
              "IPY_MODEL_11b87722b0b24ed2afb6c640185924d0",
              "IPY_MODEL_56203cdbdc01413abe7b1ba08141693f"
            ],
            "layout": "IPY_MODEL_8071a4965699407d8da4d9bda99b1b66"
          }
        },
        "5e6393afca6d44e393b8d15de5051d38": {
          "model_module": "@jupyter-widgets/controls",
          "model_name": "HTMLModel",
          "model_module_version": "1.5.0",
          "state": {
            "_dom_classes": [],
            "_model_module": "@jupyter-widgets/controls",
            "_model_module_version": "1.5.0",
            "_model_name": "HTMLModel",
            "_view_count": null,
            "_view_module": "@jupyter-widgets/controls",
            "_view_module_version": "1.5.0",
            "_view_name": "HTMLView",
            "description": "",
            "description_tooltip": null,
            "layout": "IPY_MODEL_a88a7d65fb354e98b53cfa0be60ba892",
            "placeholder": "​",
            "style": "IPY_MODEL_8fa04c190123405d964661f6ac9abcb6",
            "value": "split=val:  96%"
          }
        },
        "11b87722b0b24ed2afb6c640185924d0": {
          "model_module": "@jupyter-widgets/controls",
          "model_name": "FloatProgressModel",
          "model_module_version": "1.5.0",
          "state": {
            "_dom_classes": [],
            "_model_module": "@jupyter-widgets/controls",
            "_model_module_version": "1.5.0",
            "_model_name": "FloatProgressModel",
            "_view_count": null,
            "_view_module": "@jupyter-widgets/controls",
            "_view_module_version": "1.5.0",
            "_view_name": "ProgressView",
            "bar_style": "",
            "description": "",
            "description_tooltip": null,
            "layout": "IPY_MODEL_213eecabe33e48998d8290972cc49b63",
            "max": 25,
            "min": 0,
            "orientation": "horizontal",
            "style": "IPY_MODEL_09f5e1cdf90f45f8973fd58115b160c3",
            "value": 24
          }
        },
        "56203cdbdc01413abe7b1ba08141693f": {
          "model_module": "@jupyter-widgets/controls",
          "model_name": "HTMLModel",
          "model_module_version": "1.5.0",
          "state": {
            "_dom_classes": [],
            "_model_module": "@jupyter-widgets/controls",
            "_model_module_version": "1.5.0",
            "_model_name": "HTMLModel",
            "_view_count": null,
            "_view_module": "@jupyter-widgets/controls",
            "_view_module_version": "1.5.0",
            "_view_name": "HTMLView",
            "description": "",
            "description_tooltip": null,
            "layout": "IPY_MODEL_0d1f8ab2980345bdbb74dfce18e6c5c6",
            "placeholder": "​",
            "style": "IPY_MODEL_5536d3948992407493773e4e220f84cc",
            "value": " 24/25 [18:22&lt;00:06,  6.65s/it, acc=65.1, epoch=29, loss=1.72]"
          }
        },
        "8071a4965699407d8da4d9bda99b1b66": {
          "model_module": "@jupyter-widgets/base",
          "model_name": "LayoutModel",
          "model_module_version": "1.2.0",
          "state": {
            "_model_module": "@jupyter-widgets/base",
            "_model_module_version": "1.2.0",
            "_model_name": "LayoutModel",
            "_view_count": null,
            "_view_module": "@jupyter-widgets/base",
            "_view_module_version": "1.2.0",
            "_view_name": "LayoutView",
            "align_content": null,
            "align_items": null,
            "align_self": null,
            "border": null,
            "bottom": null,
            "display": null,
            "flex": null,
            "flex_flow": null,
            "grid_area": null,
            "grid_auto_columns": null,
            "grid_auto_flow": null,
            "grid_auto_rows": null,
            "grid_column": null,
            "grid_gap": null,
            "grid_row": null,
            "grid_template_areas": null,
            "grid_template_columns": null,
            "grid_template_rows": null,
            "height": null,
            "justify_content": null,
            "justify_items": null,
            "left": null,
            "margin": null,
            "max_height": null,
            "max_width": null,
            "min_height": null,
            "min_width": null,
            "object_fit": null,
            "object_position": null,
            "order": null,
            "overflow": null,
            "overflow_x": null,
            "overflow_y": null,
            "padding": null,
            "right": null,
            "top": null,
            "visibility": null,
            "width": null
          }
        },
        "a88a7d65fb354e98b53cfa0be60ba892": {
          "model_module": "@jupyter-widgets/base",
          "model_name": "LayoutModel",
          "model_module_version": "1.2.0",
          "state": {
            "_model_module": "@jupyter-widgets/base",
            "_model_module_version": "1.2.0",
            "_model_name": "LayoutModel",
            "_view_count": null,
            "_view_module": "@jupyter-widgets/base",
            "_view_module_version": "1.2.0",
            "_view_name": "LayoutView",
            "align_content": null,
            "align_items": null,
            "align_self": null,
            "border": null,
            "bottom": null,
            "display": null,
            "flex": null,
            "flex_flow": null,
            "grid_area": null,
            "grid_auto_columns": null,
            "grid_auto_flow": null,
            "grid_auto_rows": null,
            "grid_column": null,
            "grid_gap": null,
            "grid_row": null,
            "grid_template_areas": null,
            "grid_template_columns": null,
            "grid_template_rows": null,
            "height": null,
            "justify_content": null,
            "justify_items": null,
            "left": null,
            "margin": null,
            "max_height": null,
            "max_width": null,
            "min_height": null,
            "min_width": null,
            "object_fit": null,
            "object_position": null,
            "order": null,
            "overflow": null,
            "overflow_x": null,
            "overflow_y": null,
            "padding": null,
            "right": null,
            "top": null,
            "visibility": null,
            "width": null
          }
        },
        "8fa04c190123405d964661f6ac9abcb6": {
          "model_module": "@jupyter-widgets/controls",
          "model_name": "DescriptionStyleModel",
          "model_module_version": "1.5.0",
          "state": {
            "_model_module": "@jupyter-widgets/controls",
            "_model_module_version": "1.5.0",
            "_model_name": "DescriptionStyleModel",
            "_view_count": null,
            "_view_module": "@jupyter-widgets/base",
            "_view_module_version": "1.2.0",
            "_view_name": "StyleView",
            "description_width": ""
          }
        },
        "213eecabe33e48998d8290972cc49b63": {
          "model_module": "@jupyter-widgets/base",
          "model_name": "LayoutModel",
          "model_module_version": "1.2.0",
          "state": {
            "_model_module": "@jupyter-widgets/base",
            "_model_module_version": "1.2.0",
            "_model_name": "LayoutModel",
            "_view_count": null,
            "_view_module": "@jupyter-widgets/base",
            "_view_module_version": "1.2.0",
            "_view_name": "LayoutView",
            "align_content": null,
            "align_items": null,
            "align_self": null,
            "border": null,
            "bottom": null,
            "display": null,
            "flex": null,
            "flex_flow": null,
            "grid_area": null,
            "grid_auto_columns": null,
            "grid_auto_flow": null,
            "grid_auto_rows": null,
            "grid_column": null,
            "grid_gap": null,
            "grid_row": null,
            "grid_template_areas": null,
            "grid_template_columns": null,
            "grid_template_rows": null,
            "height": null,
            "justify_content": null,
            "justify_items": null,
            "left": null,
            "margin": null,
            "max_height": null,
            "max_width": null,
            "min_height": null,
            "min_width": null,
            "object_fit": null,
            "object_position": null,
            "order": null,
            "overflow": null,
            "overflow_x": null,
            "overflow_y": null,
            "padding": null,
            "right": null,
            "top": null,
            "visibility": null,
            "width": null
          }
        },
        "09f5e1cdf90f45f8973fd58115b160c3": {
          "model_module": "@jupyter-widgets/controls",
          "model_name": "ProgressStyleModel",
          "model_module_version": "1.5.0",
          "state": {
            "_model_module": "@jupyter-widgets/controls",
            "_model_module_version": "1.5.0",
            "_model_name": "ProgressStyleModel",
            "_view_count": null,
            "_view_module": "@jupyter-widgets/base",
            "_view_module_version": "1.2.0",
            "_view_name": "StyleView",
            "bar_color": null,
            "description_width": ""
          }
        },
        "0d1f8ab2980345bdbb74dfce18e6c5c6": {
          "model_module": "@jupyter-widgets/base",
          "model_name": "LayoutModel",
          "model_module_version": "1.2.0",
          "state": {
            "_model_module": "@jupyter-widgets/base",
            "_model_module_version": "1.2.0",
            "_model_name": "LayoutModel",
            "_view_count": null,
            "_view_module": "@jupyter-widgets/base",
            "_view_module_version": "1.2.0",
            "_view_name": "LayoutView",
            "align_content": null,
            "align_items": null,
            "align_self": null,
            "border": null,
            "bottom": null,
            "display": null,
            "flex": null,
            "flex_flow": null,
            "grid_area": null,
            "grid_auto_columns": null,
            "grid_auto_flow": null,
            "grid_auto_rows": null,
            "grid_column": null,
            "grid_gap": null,
            "grid_row": null,
            "grid_template_areas": null,
            "grid_template_columns": null,
            "grid_template_rows": null,
            "height": null,
            "justify_content": null,
            "justify_items": null,
            "left": null,
            "margin": null,
            "max_height": null,
            "max_width": null,
            "min_height": null,
            "min_width": null,
            "object_fit": null,
            "object_position": null,
            "order": null,
            "overflow": null,
            "overflow_x": null,
            "overflow_y": null,
            "padding": null,
            "right": null,
            "top": null,
            "visibility": null,
            "width": null
          }
        },
        "5536d3948992407493773e4e220f84cc": {
          "model_module": "@jupyter-widgets/controls",
          "model_name": "DescriptionStyleModel",
          "model_module_version": "1.5.0",
          "state": {
            "_model_module": "@jupyter-widgets/controls",
            "_model_module_version": "1.5.0",
            "_model_name": "DescriptionStyleModel",
            "_view_count": null,
            "_view_module": "@jupyter-widgets/base",
            "_view_module_version": "1.2.0",
            "_view_name": "StyleView",
            "description_width": ""
          }
        }
      }
    }
  },
  "nbformat": 4,
  "nbformat_minor": 0
}